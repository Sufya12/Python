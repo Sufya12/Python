{
 "cells": [
  {
   "cell_type": "markdown",
   "id": "96250fc0",
   "metadata": {},
   "source": [
    "# Lec_05"
   ]
  },
  {
   "cell_type": "code",
   "execution_count": 1,
   "id": "03cd156c",
   "metadata": {},
   "outputs": [],
   "source": [
    "#Assign The Value\n",
    "food = 'samosa'"
   ]
  },
  {
   "cell_type": "code",
   "execution_count": 2,
   "id": "7e8c7e14",
   "metadata": {},
   "outputs": [
    {
     "data": {
      "text/plain": [
       "'a'"
      ]
     },
     "execution_count": 2,
     "metadata": {},
     "output_type": "execute_result"
    }
   ],
   "source": [
    "#indexing The Value\n",
    "food[-1]"
   ]
  },
  {
   "cell_type": "code",
   "execution_count": 3,
   "id": "d012ea6f",
   "metadata": {},
   "outputs": [
    {
     "data": {
      "text/plain": [
       "'s'"
      ]
     },
     "execution_count": 3,
     "metadata": {},
     "output_type": "execute_result"
    }
   ],
   "source": [
    "#indexing The Value\n",
    "food[0]"
   ]
  },
  {
   "cell_type": "code",
   "execution_count": 4,
   "id": "2d99d8c5",
   "metadata": {},
   "outputs": [
    {
     "data": {
      "text/plain": [
       "'a'"
      ]
     },
     "execution_count": 4,
     "metadata": {},
     "output_type": "execute_result"
    }
   ],
   "source": [
    "#indexing The Value\n",
    "food[1]"
   ]
  },
  {
   "cell_type": "code",
   "execution_count": 5,
   "id": "20c534d9",
   "metadata": {},
   "outputs": [
    {
     "data": {
      "text/plain": [
       "'m'"
      ]
     },
     "execution_count": 5,
     "metadata": {},
     "output_type": "execute_result"
    }
   ],
   "source": [
    "food[2]"
   ]
  },
  {
   "cell_type": "code",
   "execution_count": 6,
   "id": "f123a6a6",
   "metadata": {},
   "outputs": [
    {
     "data": {
      "text/plain": [
       "'samosa'"
      ]
     },
     "execution_count": 6,
     "metadata": {},
     "output_type": "execute_result"
    }
   ],
   "source": [
    "#Silicing The Value\n",
    "food[0:]"
   ]
  },
  {
   "cell_type": "code",
   "execution_count": 7,
   "id": "c1b137f8",
   "metadata": {},
   "outputs": [
    {
     "data": {
      "text/plain": [
       "'a'"
      ]
     },
     "execution_count": 7,
     "metadata": {},
     "output_type": "execute_result"
    }
   ],
   "source": [
    "#Silicing The Value\n",
    "food[-1:]"
   ]
  },
  {
   "cell_type": "code",
   "execution_count": 8,
   "id": "94d8b10b",
   "metadata": {},
   "outputs": [
    {
     "data": {
      "text/plain": [
       "'amosa'"
      ]
     },
     "execution_count": 8,
     "metadata": {},
     "output_type": "execute_result"
    }
   ],
   "source": [
    "#Silicing The Value\n",
    "food[1:]"
   ]
  },
  {
   "cell_type": "code",
   "execution_count": 9,
   "id": "7efad50f",
   "metadata": {},
   "outputs": [
    {
     "data": {
      "text/plain": [
       "'am'"
      ]
     },
     "execution_count": 9,
     "metadata": {},
     "output_type": "execute_result"
    }
   ],
   "source": [
    "#Silicing The Value\n",
    "food[1:3]"
   ]
  },
  {
   "cell_type": "code",
   "execution_count": 10,
   "id": "7059c215",
   "metadata": {},
   "outputs": [
    {
     "data": {
      "text/plain": [
       "6"
      ]
     },
     "execution_count": 10,
     "metadata": {},
     "output_type": "execute_result"
    }
   ],
   "source": [
    "#Check The Length\n",
    "len(food)"
   ]
  },
  {
   "cell_type": "code",
   "execution_count": 11,
   "id": "5fc395cc",
   "metadata": {},
   "outputs": [],
   "source": [
    "#Assign The Value\n",
    "my_food= 'jalebi,samosa'"
   ]
  },
  {
   "cell_type": "code",
   "execution_count": 12,
   "id": "7360d409",
   "metadata": {},
   "outputs": [
    {
     "data": {
      "text/plain": [
       "True"
      ]
     },
     "execution_count": 12,
     "metadata": {},
     "output_type": "execute_result"
    }
   ],
   "source": [
    "#Check Value In Variable Present Or Not\n",
    "'jalebi' in my_food"
   ]
  },
  {
   "cell_type": "code",
   "execution_count": 13,
   "id": "c4e97740",
   "metadata": {},
   "outputs": [
    {
     "data": {
      "text/plain": [
       "False"
      ]
     },
     "execution_count": 13,
     "metadata": {},
     "output_type": "execute_result"
    }
   ],
   "source": [
    "#Check Value In Variable Present Or Not\n",
    "'Jalebi' in my_food"
   ]
  },
  {
   "cell_type": "code",
   "execution_count": 14,
   "id": "3a5475da",
   "metadata": {},
   "outputs": [
    {
     "data": {
      "text/plain": [
       "False"
      ]
     },
     "execution_count": 14,
     "metadata": {},
     "output_type": "execute_result"
    }
   ],
   "source": [
    "#Check Value In Variable Present Or Not\n",
    "'biryani' in my_food"
   ]
  },
  {
   "cell_type": "code",
   "execution_count": 15,
   "id": "6db1bf06",
   "metadata": {},
   "outputs": [
    {
     "data": {
      "text/plain": [
       "True"
      ]
     },
     "execution_count": 15,
     "metadata": {},
     "output_type": "execute_result"
    }
   ],
   "source": [
    "#Check Value In Variable  Not Present \n",
    "'biryani' not in my_food"
   ]
  },
  {
   "cell_type": "code",
   "execution_count": 16,
   "id": "0cdab52b",
   "metadata": {},
   "outputs": [
    {
     "ename": "TypeError",
     "evalue": "'str' object does not support item assignment",
     "output_type": "error",
     "traceback": [
      "\u001b[1;31m---------------------------------------------------------------------------\u001b[0m",
      "\u001b[1;31mTypeError\u001b[0m                                 Traceback (most recent call last)",
      "Input \u001b[1;32mIn [16]\u001b[0m, in \u001b[0;36m<cell line: 2>\u001b[1;34m()\u001b[0m\n\u001b[0;32m      1\u001b[0m \u001b[38;5;66;03m#Replace By Using Indexing\u001b[39;00m\n\u001b[1;32m----> 2\u001b[0m food[\u001b[38;5;241m0\u001b[39m]\u001b[38;5;241m=\u001b[39m\u001b[38;5;124m'\u001b[39m\u001b[38;5;124mx\u001b[39m\u001b[38;5;124m'\u001b[39m\n",
      "\u001b[1;31mTypeError\u001b[0m: 'str' object does not support item assignment"
     ]
    }
   ],
   "source": [
    "#Replace By Using Indexing\n",
    "food[0]='x'"
   ]
  },
  {
   "cell_type": "code",
   "execution_count": null,
   "id": "009e0a77",
   "metadata": {},
   "outputs": [],
   "source": [
    "#Rplace The value By Using Function\n",
    "my_food.replace('samosa','biryani')"
   ]
  },
  {
   "cell_type": "code",
   "execution_count": null,
   "id": "fb4a686e",
   "metadata": {},
   "outputs": [],
   "source": [
    "#Print The Value\n",
    "print(my_food)"
   ]
  },
  {
   "cell_type": "code",
   "execution_count": null,
   "id": "4e7de1bc",
   "metadata": {},
   "outputs": [],
   "source": [
    "#Assign The Value \n",
    "my_food = my_food.replace('samosa','biryani')"
   ]
  },
  {
   "cell_type": "code",
   "execution_count": null,
   "id": "5f94b76b",
   "metadata": {},
   "outputs": [],
   "source": [
    "#Print The Value\n",
    "print(my_food)"
   ]
  },
  {
   "cell_type": "code",
   "execution_count": null,
   "id": "6eb00d91",
   "metadata": {},
   "outputs": [],
   "source": [
    "#All Function Of String Are Check\n",
    "dir(my_food)"
   ]
  },
  {
   "cell_type": "code",
   "execution_count": null,
   "id": "72fdbcb3",
   "metadata": {},
   "outputs": [],
   "source": [
    "#Apply The Upper Fnction\n",
    "my_food.upper()"
   ]
  },
  {
   "cell_type": "code",
   "execution_count": null,
   "id": "6ad856fa",
   "metadata": {},
   "outputs": [],
   "source": [
    "#Apply The Lower Function\n",
    "my_food.lower()"
   ]
  },
  {
   "cell_type": "code",
   "execution_count": null,
   "id": "99e329fe",
   "metadata": {},
   "outputs": [],
   "source": [
    "#Assign The Value \n",
    "a ='429'"
   ]
  },
  {
   "cell_type": "code",
   "execution_count": null,
   "id": "8cf45ed9",
   "metadata": {},
   "outputs": [],
   "source": [
    "#Check The String isdigit or Not\n",
    "a.isdigit()"
   ]
  },
  {
   "cell_type": "code",
   "execution_count": null,
   "id": "faf2455c",
   "metadata": {},
   "outputs": [],
   "source": [
    "#Check The Any Value Index\n",
    "my_food.index('jalebi')"
   ]
  },
  {
   "cell_type": "code",
   "execution_count": null,
   "id": "b4f4976d",
   "metadata": {},
   "outputs": [],
   "source": [
    "#Assign The Values\n",
    "states = 4\n",
    "text = 'The States In Pakistan'"
   ]
  },
  {
   "cell_type": "code",
   "execution_count": null,
   "id": "2cba9809",
   "metadata": {},
   "outputs": [],
   "source": [
    "#Add String And Ingeter\n",
    "a = text+str(states)"
   ]
  },
  {
   "cell_type": "code",
   "execution_count": null,
   "id": "ef1eeda9",
   "metadata": {},
   "outputs": [],
   "source": [
    "#Print The Value\n",
    "print(a)"
   ]
  },
  {
   "cell_type": "code",
   "execution_count": 17,
   "id": "1db4ef11",
   "metadata": {},
   "outputs": [
    {
     "ename": "SyntaxError",
     "evalue": "unterminated string literal (detected at line 2) (3678778790.py, line 2)",
     "output_type": "error",
     "traceback": [
      "\u001b[1;36m  Input \u001b[1;32mIn [17]\u001b[1;36m\u001b[0m\n\u001b[1;33m    s = 'let's learn python'\u001b[0m\n\u001b[1;37m                           ^\u001b[0m\n\u001b[1;31mSyntaxError\u001b[0m\u001b[1;31m:\u001b[0m unterminated string literal (detected at line 2)\n"
     ]
    }
   ],
   "source": [
    "#Assign The String \n",
    "s = 'let's learn python'"
   ]
  },
  {
   "cell_type": "code",
   "execution_count": 18,
   "id": "aa35db0c",
   "metadata": {},
   "outputs": [],
   "source": [
    "#Assign The String \n",
    "s1 =\"let's learn Python\""
   ]
  },
  {
   "cell_type": "code",
   "execution_count": 19,
   "id": "aa45bfab",
   "metadata": {},
   "outputs": [
    {
     "name": "stdout",
     "output_type": "stream",
     "text": [
      "let's learn Python\n"
     ]
    }
   ],
   "source": [
    "#Print The String\n",
    "print(s1)"
   ]
  },
  {
   "cell_type": "code",
   "execution_count": 20,
   "id": "0b247437",
   "metadata": {},
   "outputs": [],
   "source": [
    "#Assign The String \n",
    "s2 = 'let\\'s learn the python'"
   ]
  },
  {
   "cell_type": "code",
   "execution_count": 22,
   "id": "050c68af",
   "metadata": {},
   "outputs": [
    {
     "name": "stdout",
     "output_type": "stream",
     "text": [
      "let's learn the python\n"
     ]
    }
   ],
   "source": [
    "#Print The String\n",
    "print(s2)"
   ]
  },
  {
   "cell_type": "code",
   "execution_count": 23,
   "id": "2c3c4c6d",
   "metadata": {},
   "outputs": [],
   "source": [
    "#Assign The String \n",
    "s3 = 'Hello \"World\"'"
   ]
  },
  {
   "cell_type": "code",
   "execution_count": 24,
   "id": "65d2460a",
   "metadata": {},
   "outputs": [
    {
     "name": "stdout",
     "output_type": "stream",
     "text": [
      "Hello \"World\"\n"
     ]
    }
   ],
   "source": [
    "#Print The String\n",
    "print(s3)"
   ]
  },
  {
   "cell_type": "code",
   "execution_count": 25,
   "id": "dc511592",
   "metadata": {},
   "outputs": [
    {
     "ename": "SyntaxError",
     "evalue": "invalid syntax (1465813321.py, line 2)",
     "output_type": "error",
     "traceback": [
      "\u001b[1;36m  Input \u001b[1;32mIn [25]\u001b[1;36m\u001b[0m\n\u001b[1;33m    s4 = \"Hello \"World\"\"\u001b[0m\n\u001b[1;37m                 ^\u001b[0m\n\u001b[1;31mSyntaxError\u001b[0m\u001b[1;31m:\u001b[0m invalid syntax\n"
     ]
    }
   ],
   "source": [
    "#Assign The String \n",
    "s4 = \"Hello \"World\"\""
   ]
  },
  {
   "cell_type": "code",
   "execution_count": 26,
   "id": "ee884348",
   "metadata": {},
   "outputs": [],
   "source": [
    "#Assign The String \n",
    "s5 = \"Hello \\\"World\\\"\""
   ]
  },
  {
   "cell_type": "code",
   "execution_count": 27,
   "id": "ddb45771",
   "metadata": {},
   "outputs": [
    {
     "name": "stdout",
     "output_type": "stream",
     "text": [
      "Hello \"World\"\n"
     ]
    }
   ],
   "source": [
    "#Print The String\n",
    "print(s5)"
   ]
  },
  {
   "cell_type": "code",
   "execution_count": 28,
   "id": "79d0b826",
   "metadata": {},
   "outputs": [],
   "source": [
    "#Assign The Mutilines String \n",
    "dialog = '''kitne aadami the?\n",
    "Kalia : Sardar ,do  '''"
   ]
  },
  {
   "cell_type": "code",
   "execution_count": 29,
   "id": "1cd303a5",
   "metadata": {},
   "outputs": [
    {
     "name": "stdout",
     "output_type": "stream",
     "text": [
      "kitne aadami the?\n",
      "Kalia : Sardar ,do  \n"
     ]
    }
   ],
   "source": [
    "#Print The Mutilines String\n",
    "print(dialog)"
   ]
  },
  {
   "cell_type": "code",
   "execution_count": 31,
   "id": "330783a6",
   "metadata": {},
   "outputs": [],
   "source": [
    "#Assign The String And Incude The Tab Space Command\n",
    "sa = 'Hello\\tWorld'"
   ]
  },
  {
   "cell_type": "code",
   "execution_count": 32,
   "id": "b99ea8d3",
   "metadata": {},
   "outputs": [
    {
     "name": "stdout",
     "output_type": "stream",
     "text": [
      "Hello\tWorld\n"
     ]
    }
   ],
   "source": [
    "#Print The String\n",
    "print(sa)"
   ]
  },
  {
   "cell_type": "code",
   "execution_count": 33,
   "id": "2508cccd",
   "metadata": {},
   "outputs": [],
   "source": [
    "#Assign The String Include The New Line Command\n",
    "a ='Hello\\nWorld'"
   ]
  },
  {
   "cell_type": "code",
   "execution_count": 34,
   "id": "869a16b3",
   "metadata": {},
   "outputs": [
    {
     "name": "stdout",
     "output_type": "stream",
     "text": [
      "Hello\n",
      "World\n"
     ]
    }
   ],
   "source": [
    "#Print The String\n",
    "print(a)"
   ]
  },
  {
   "cell_type": "code",
   "execution_count": 35,
   "id": "a3fded4c",
   "metadata": {},
   "outputs": [],
   "source": [
    "#Assign The String\n",
    "first_name = 'Imran'\n",
    "last_name ='Khan'"
   ]
  },
  {
   "cell_type": "code",
   "execution_count": 37,
   "id": "428d2f53",
   "metadata": {},
   "outputs": [
    {
     "name": "stdout",
     "output_type": "stream",
     "text": [
      "The Best Cricket Player Imran  Khan\n"
     ]
    }
   ],
   "source": [
    "#Print The String\n",
    "print('The Best Cricket Player',first_name,'',last_name)"
   ]
  },
  {
   "cell_type": "code",
   "execution_count": 38,
   "id": "5610ce49",
   "metadata": {},
   "outputs": [
    {
     "name": "stdout",
     "output_type": "stream",
     "text": [
      "The Best Criccket Player Imran Khan\n"
     ]
    }
   ],
   "source": [
    "#Print The String\n",
    "print(f'The Best Criccket Player {first_name} {last_name}')"
   ]
  },
  {
   "cell_type": "markdown",
   "id": "a35745ba",
   "metadata": {},
   "source": [
    "--------------------------------------------------------------------------------------------------------------------------------"
   ]
  }
 ],
 "metadata": {
  "kernelspec": {
   "display_name": "Python 3 (ipykernel)",
   "language": "python",
   "name": "python3"
  },
  "language_info": {
   "codemirror_mode": {
    "name": "ipython",
    "version": 3
   },
   "file_extension": ".py",
   "mimetype": "text/x-python",
   "name": "python",
   "nbconvert_exporter": "python",
   "pygments_lexer": "ipython3",
   "version": "3.10.4"
  }
 },
 "nbformat": 4,
 "nbformat_minor": 5
}
