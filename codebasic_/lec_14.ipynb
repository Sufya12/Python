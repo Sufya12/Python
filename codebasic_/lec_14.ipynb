{
 "cells": [
  {
   "cell_type": "markdown",
   "id": "fc2484a8",
   "metadata": {},
   "source": [
    "# Lec _14"
   ]
  },
  {
   "cell_type": "markdown",
   "id": "940b673a",
   "metadata": {},
   "source": [
    "## Dictionary"
   ]
  },
  {
   "cell_type": "code",
   "execution_count": 1,
   "id": "f237b501",
   "metadata": {},
   "outputs": [],
   "source": [
    "#Create The dictionary\n",
    "captions ={}"
   ]
  },
  {
   "cell_type": "code",
   "execution_count": 2,
   "id": "cf6da641",
   "metadata": {},
   "outputs": [
    {
     "data": {
      "text/plain": [
       "dict"
      ]
     },
     "execution_count": 2,
     "metadata": {},
     "output_type": "execute_result"
    }
   ],
   "source": [
    "#Check The Type\n",
    "type(captions)"
   ]
  },
  {
   "cell_type": "code",
   "execution_count": 3,
   "id": "ba90a801",
   "metadata": {},
   "outputs": [],
   "source": [
    "#Create The Dictionary\n",
    "captions = {\n",
    "    'india' :'virat',\n",
    "    'pakistan' : 'sarfaraz',\n",
    "    'sri lanka':'dimuth'\n",
    "}"
   ]
  },
  {
   "cell_type": "code",
   "execution_count": 4,
   "id": "dec8bbe7",
   "metadata": {},
   "outputs": [
    {
     "name": "stdout",
     "output_type": "stream",
     "text": [
      "{'india': 'virat', 'pakistan': 'sarfaraz', 'sri lanka': 'dimuth'}\n"
     ]
    }
   ],
   "source": [
    "#Print The Dictionary\n",
    "print(captions)"
   ]
  },
  {
   "cell_type": "code",
   "execution_count": 5,
   "id": "0506199a",
   "metadata": {},
   "outputs": [
    {
     "data": {
      "text/plain": [
       "'sarfaraz'"
      ]
     },
     "execution_count": 5,
     "metadata": {},
     "output_type": "execute_result"
    }
   ],
   "source": [
    "#Sicling The Dictionary\n",
    "captions['pakistan']"
   ]
  },
  {
   "cell_type": "code",
   "execution_count": 6,
   "id": "dab65a1c",
   "metadata": {},
   "outputs": [
    {
     "data": {
      "text/plain": [
       "'virat'"
      ]
     },
     "execution_count": 6,
     "metadata": {},
     "output_type": "execute_result"
    }
   ],
   "source": [
    "#Sicling The Dictionary\n",
    "captions['india']"
   ]
  },
  {
   "cell_type": "code",
   "execution_count": 7,
   "id": "e93e3a0f",
   "metadata": {},
   "outputs": [
    {
     "data": {
      "text/plain": [
       "'dimuth'"
      ]
     },
     "execution_count": 7,
     "metadata": {},
     "output_type": "execute_result"
    }
   ],
   "source": [
    "#Sicling The Dictionary\n",
    "captions['sri lanka']"
   ]
  },
  {
   "cell_type": "code",
   "execution_count": 8,
   "id": "3bc65e27",
   "metadata": {},
   "outputs": [
    {
     "data": {
      "text/plain": [
       "dict_values(['virat', 'sarfaraz', 'dimuth'])"
      ]
     },
     "execution_count": 8,
     "metadata": {},
     "output_type": "execute_result"
    }
   ],
   "source": [
    "#Print The Values of dictionary\n",
    "captions.values()"
   ]
  },
  {
   "cell_type": "code",
   "execution_count": 9,
   "id": "71da2e2e",
   "metadata": {},
   "outputs": [
    {
     "data": {
      "text/plain": [
       "dict_keys(['india', 'pakistan', 'sri lanka'])"
      ]
     },
     "execution_count": 9,
     "metadata": {},
     "output_type": "execute_result"
    }
   ],
   "source": [
    "#Print The Keys of dictionary\n",
    "captions.keys()"
   ]
  },
  {
   "cell_type": "code",
   "execution_count": 10,
   "id": "d263a075",
   "metadata": {},
   "outputs": [],
   "source": [
    "#Add The New Dictionary Values\n",
    "captions['england'] = 'root'"
   ]
  },
  {
   "cell_type": "code",
   "execution_count": 11,
   "id": "cd7a9f8c",
   "metadata": {},
   "outputs": [
    {
     "name": "stdout",
     "output_type": "stream",
     "text": [
      "{'india': 'virat', 'pakistan': 'sarfaraz', 'sri lanka': 'dimuth', 'england': 'root'}\n"
     ]
    }
   ],
   "source": [
    "#Print The  dictionary\n",
    "print(captions)"
   ]
  },
  {
   "cell_type": "code",
   "execution_count": 12,
   "id": "545a1d62",
   "metadata": {},
   "outputs": [
    {
     "name": "stdout",
     "output_type": "stream",
     "text": [
      "india\n",
      "pakistan\n",
      "sri lanka\n",
      "england\n"
     ]
    }
   ],
   "source": [
    "#For Loop are Use The Print the Team Name\n",
    "for team in captions:\n",
    "    print(team)"
   ]
  },
  {
   "cell_type": "code",
   "execution_count": 13,
   "id": "b00a7be5",
   "metadata": {},
   "outputs": [
    {
     "name": "stdout",
     "output_type": "stream",
     "text": [
      "india ==> virat\n",
      "pakistan ==> sarfaraz\n",
      "sri lanka ==> dimuth\n",
      "england ==> root\n"
     ]
    }
   ],
   "source": [
    "#For Loop are Use The Print the Team Name and Print The caption Name\n",
    "for team in captions:\n",
    "    print(team, \"==>\",captions[team])"
   ]
  },
  {
   "cell_type": "code",
   "execution_count": 14,
   "id": "4fcc7b1e",
   "metadata": {},
   "outputs": [
    {
     "name": "stdout",
     "output_type": "stream",
     "text": [
      "india ==> virat\n",
      "pakistan ==> sarfaraz\n",
      "sri lanka ==> dimuth\n",
      "england ==> root\n"
     ]
    }
   ],
   "source": [
    "#For Loop are Use The Print the Team Name and Print The caption Name\n",
    "for team ,caption in captions.items():\n",
    "    print(team,'==>',caption)"
   ]
  },
  {
   "cell_type": "code",
   "execution_count": 15,
   "id": "03ab66e6",
   "metadata": {},
   "outputs": [
    {
     "data": {
      "text/plain": [
       "False"
      ]
     },
     "execution_count": 15,
     "metadata": {},
     "output_type": "execute_result"
    }
   ],
   "source": [
    "#Check List Present in Country\n",
    "'australia' in captions"
   ]
  },
  {
   "cell_type": "code",
   "execution_count": 16,
   "id": "ed7e0a76",
   "metadata": {},
   "outputs": [
    {
     "data": {
      "text/plain": [
       "True"
      ]
     },
     "execution_count": 16,
     "metadata": {},
     "output_type": "execute_result"
    }
   ],
   "source": [
    "#Check List Present in Country\n",
    "'pakistan' in captions"
   ]
  },
  {
   "cell_type": "code",
   "execution_count": 17,
   "id": "19109e71",
   "metadata": {},
   "outputs": [],
   "source": [
    "#Clear The Dictionary\n",
    "captions.clear()"
   ]
  },
  {
   "cell_type": "code",
   "execution_count": 18,
   "id": "ea2fca12",
   "metadata": {},
   "outputs": [
    {
     "name": "stdout",
     "output_type": "stream",
     "text": [
      "{}\n"
     ]
    }
   ],
   "source": [
    "#Print The Dictionary\n",
    "print(captions)"
   ]
  },
  {
   "cell_type": "code",
   "execution_count": 19,
   "id": "70974d4a",
   "metadata": {},
   "outputs": [
    {
     "data": {
      "text/plain": [
       "['__class__',\n",
       " '__class_getitem__',\n",
       " '__contains__',\n",
       " '__delattr__',\n",
       " '__delitem__',\n",
       " '__dir__',\n",
       " '__doc__',\n",
       " '__eq__',\n",
       " '__format__',\n",
       " '__ge__',\n",
       " '__getattribute__',\n",
       " '__getitem__',\n",
       " '__gt__',\n",
       " '__hash__',\n",
       " '__init__',\n",
       " '__init_subclass__',\n",
       " '__ior__',\n",
       " '__iter__',\n",
       " '__le__',\n",
       " '__len__',\n",
       " '__lt__',\n",
       " '__ne__',\n",
       " '__new__',\n",
       " '__or__',\n",
       " '__reduce__',\n",
       " '__reduce_ex__',\n",
       " '__repr__',\n",
       " '__reversed__',\n",
       " '__ror__',\n",
       " '__setattr__',\n",
       " '__setitem__',\n",
       " '__sizeof__',\n",
       " '__str__',\n",
       " '__subclasshook__',\n",
       " 'clear',\n",
       " 'copy',\n",
       " 'fromkeys',\n",
       " 'get',\n",
       " 'items',\n",
       " 'keys',\n",
       " 'pop',\n",
       " 'popitem',\n",
       " 'setdefault',\n",
       " 'update',\n",
       " 'values']"
      ]
     },
     "execution_count": 19,
     "metadata": {},
     "output_type": "execute_result"
    }
   ],
   "source": [
    "#Print The All Function\n",
    "dir(captions)"
   ]
  },
  {
   "cell_type": "code",
   "execution_count": 20,
   "id": "05d3a1aa",
   "metadata": {},
   "outputs": [],
   "source": [
    "#Create The Dictionary\n",
    "captions = {\n",
    "    'india' :'virat',\n",
    "    'pakistan' : 'sarfaraz',\n",
    "    'sri lanka':'dimuth'\n",
    "}"
   ]
  },
  {
   "cell_type": "code",
   "execution_count": 21,
   "id": "66ef82ce",
   "metadata": {},
   "outputs": [
    {
     "data": {
      "text/plain": [
       "'virat'"
      ]
     },
     "execution_count": 21,
     "metadata": {},
     "output_type": "execute_result"
    }
   ],
   "source": [
    "#Silicing The Dictionary\n",
    "captions['india']"
   ]
  },
  {
   "cell_type": "code",
   "execution_count": 22,
   "id": "18e13a8b",
   "metadata": {},
   "outputs": [
    {
     "data": {
      "text/plain": [
       "'virat'"
      ]
     },
     "execution_count": 22,
     "metadata": {},
     "output_type": "execute_result"
    }
   ],
   "source": [
    "#Silicing The Dictionary Using get Function\n",
    "captions.get('india')"
   ]
  },
  {
   "cell_type": "code",
   "execution_count": 24,
   "id": "703ba9c4",
   "metadata": {},
   "outputs": [],
   "source": [
    "#Value Are Not Present The Get Function .it is not Code Crash\n",
    "captions.get('x')"
   ]
  },
  {
   "cell_type": "code",
   "execution_count": 25,
   "id": "45c2a3d3",
   "metadata": {},
   "outputs": [
    {
     "data": {
      "text/plain": [
       "'Sufyan '"
      ]
     },
     "execution_count": 25,
     "metadata": {},
     "output_type": "execute_result"
    }
   ],
   "source": [
    "#Value Are Not Present The Get Function .it is not Code Crash And Set Default Value\n",
    "captions.get('x','Sufyan ')"
   ]
  },
  {
   "cell_type": "code",
   "execution_count": 26,
   "id": "b0a3ce72",
   "metadata": {},
   "outputs": [
    {
     "data": {
      "text/plain": [
       "'virat'"
      ]
     },
     "execution_count": 26,
     "metadata": {},
     "output_type": "execute_result"
    }
   ],
   "source": [
    "#Value Are Not Present The Get Function .it is not Code Crash And Set Default Value\n",
    "captions.get('india','dhaval')"
   ]
  },
  {
   "cell_type": "code",
   "execution_count": 27,
   "id": "1e8e08f4",
   "metadata": {},
   "outputs": [
    {
     "data": {
      "text/plain": [
       "'Sufyan'"
      ]
     },
     "execution_count": 27,
     "metadata": {},
     "output_type": "execute_result"
    }
   ],
   "source": [
    "#Value Are Not Present The Get Function .it is not Code Crash And Set Default Value\n",
    "captions.get('x','Sufyan')"
   ]
  },
  {
   "cell_type": "code",
   "execution_count": 28,
   "id": "19783cf9",
   "metadata": {},
   "outputs": [],
   "source": [
    "#Create The Dictionary\n",
    "e={}"
   ]
  },
  {
   "cell_type": "code",
   "execution_count": 30,
   "id": "123442ff",
   "metadata": {},
   "outputs": [],
   "source": [
    "#Add Dictionory of Values\n",
    "e['name'] ='sufyan'"
   ]
  },
  {
   "cell_type": "code",
   "execution_count": 31,
   "id": "53bf7f50",
   "metadata": {},
   "outputs": [],
   "source": [
    "#Add Dictionory of Values\n",
    "e['id'] = 201"
   ]
  },
  {
   "cell_type": "code",
   "execution_count": 32,
   "id": "d62a3a16",
   "metadata": {},
   "outputs": [],
   "source": [
    "#Add Dictionory of Values\n",
    "e['age'] = 25"
   ]
  },
  {
   "cell_type": "markdown",
   "id": "c35e0f65",
   "metadata": {},
   "source": [
    "## Tuple"
   ]
  },
  {
   "cell_type": "code",
   "execution_count": 33,
   "id": "d653d025",
   "metadata": {},
   "outputs": [],
   "source": [
    "#Create The Tuple of 2d value\n",
    "point=(4,6)"
   ]
  },
  {
   "cell_type": "code",
   "execution_count": 34,
   "id": "328bcc1f",
   "metadata": {},
   "outputs": [
    {
     "data": {
      "text/plain": [
       "tuple"
      ]
     },
     "execution_count": 34,
     "metadata": {},
     "output_type": "execute_result"
    }
   ],
   "source": [
    "#Check The Type\n",
    "type(point)"
   ]
  },
  {
   "cell_type": "code",
   "execution_count": 35,
   "id": "d4cdb7bb",
   "metadata": {},
   "outputs": [],
   "source": [
    "#Create The Tuple of 4d value\n",
    "point = (4,5,6,9)"
   ]
  },
  {
   "cell_type": "code",
   "execution_count": 36,
   "id": "448efe20",
   "metadata": {},
   "outputs": [
    {
     "data": {
      "text/plain": [
       "4"
      ]
     },
     "execution_count": 36,
     "metadata": {},
     "output_type": "execute_result"
    }
   ],
   "source": [
    "#Silicing The Value\n",
    "point[0]"
   ]
  },
  {
   "cell_type": "code",
   "execution_count": 37,
   "id": "20a021be",
   "metadata": {},
   "outputs": [
    {
     "data": {
      "text/plain": [
       "5"
      ]
     },
     "execution_count": 37,
     "metadata": {},
     "output_type": "execute_result"
    }
   ],
   "source": [
    "#Silicing The Value\n",
    "point[1]"
   ]
  },
  {
   "cell_type": "code",
   "execution_count": 38,
   "id": "e849669a",
   "metadata": {},
   "outputs": [
    {
     "data": {
      "text/plain": [
       "6"
      ]
     },
     "execution_count": 38,
     "metadata": {},
     "output_type": "execute_result"
    }
   ],
   "source": [
    "#Silicing The Value\n",
    "point[2]"
   ]
  },
  {
   "cell_type": "code",
   "execution_count": 39,
   "id": "9df09835",
   "metadata": {},
   "outputs": [
    {
     "ename": "TypeError",
     "evalue": "'tuple' object does not support item assignment",
     "output_type": "error",
     "traceback": [
      "\u001b[1;31m---------------------------------------------------------------------------\u001b[0m",
      "\u001b[1;31mTypeError\u001b[0m                                 Traceback (most recent call last)",
      "Input \u001b[1;32mIn [39]\u001b[0m, in \u001b[0;36m<cell line: 2>\u001b[1;34m()\u001b[0m\n\u001b[0;32m      1\u001b[0m \u001b[38;5;66;03m#Add The Value of Tule \u001b[39;00m\n\u001b[1;32m----> 2\u001b[0m point[\u001b[38;5;241m0\u001b[39m] \u001b[38;5;241m=\u001b[39m \u001b[38;5;241m1\u001b[39m\n",
      "\u001b[1;31mTypeError\u001b[0m: 'tuple' object does not support item assignment"
     ]
    }
   ],
   "source": [
    "#Add The Value of Tule \n",
    "point[0] = 1"
   ]
  },
  {
   "cell_type": "code",
   "execution_count": 40,
   "id": "822427b5",
   "metadata": {},
   "outputs": [],
   "source": [
    "#Create The Function\n",
    "def add_multiply(a,b):\n",
    "    total = a+b\n",
    "    m = a*b\n",
    "    return total ,m"
   ]
  },
  {
   "cell_type": "code",
   "execution_count": 41,
   "id": "e19879de",
   "metadata": {},
   "outputs": [],
   "source": [
    "#Call The Function\n",
    "s,m = add_multiply(4,5)\n"
   ]
  },
  {
   "cell_type": "code",
   "execution_count": 43,
   "id": "785c0e53",
   "metadata": {},
   "outputs": [
    {
     "name": "stdout",
     "output_type": "stream",
     "text": [
      "9\n"
     ]
    }
   ],
   "source": [
    "#Print The Value\n",
    "print(s)"
   ]
  },
  {
   "cell_type": "code",
   "execution_count": 44,
   "id": "91e79651",
   "metadata": {},
   "outputs": [
    {
     "name": "stdout",
     "output_type": "stream",
     "text": [
      "20\n"
     ]
    }
   ],
   "source": [
    "#Print The Value\n",
    "print(m)"
   ]
  },
  {
   "cell_type": "markdown",
   "id": "127f28fc",
   "metadata": {},
   "source": [
    "--------------------------------------------------------------------------------------------------------------------------------"
   ]
  }
 ],
 "metadata": {
  "kernelspec": {
   "display_name": "Python 3 (ipykernel)",
   "language": "python",
   "name": "python3"
  },
  "language_info": {
   "codemirror_mode": {
    "name": "ipython",
    "version": 3
   },
   "file_extension": ".py",
   "mimetype": "text/x-python",
   "name": "python",
   "nbconvert_exporter": "python",
   "pygments_lexer": "ipython3",
   "version": "3.10.4"
  }
 },
 "nbformat": 4,
 "nbformat_minor": 5
}
