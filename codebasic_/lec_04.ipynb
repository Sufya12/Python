{
 "cells": [
  {
   "cell_type": "markdown",
   "id": "c7df11a4",
   "metadata": {},
   "source": [
    "# Lec 04"
   ]
  },
  {
   "cell_type": "code",
   "execution_count": 1,
   "id": "f77cff80",
   "metadata": {},
   "outputs": [
    {
     "name": "stdout",
     "output_type": "stream",
     "text": [
      "The Area is : 799.7434499999999\n"
     ]
    }
   ],
   "source": [
    "#Assign The Value And Print\n",
    "base =45.87\n",
    "height =34.87\n",
    "area =(1/2)*base*height\n",
    "print('The Area is :',area)"
   ]
  },
  {
   "cell_type": "code",
   "execution_count": 2,
   "id": "6369ff7d",
   "metadata": {},
   "outputs": [
    {
     "name": "stdout",
     "output_type": "stream",
     "text": [
      "899.4445\n"
     ]
    }
   ],
   "source": [
    "#Assign The Value And Print\n",
    "foo = 899.4445\n",
    "print(foo)"
   ]
  },
  {
   "cell_type": "code",
   "execution_count": 3,
   "id": "2878ac17",
   "metadata": {},
   "outputs": [
    {
     "name": "stdout",
     "output_type": "stream",
     "text": [
      "899.4\n"
     ]
    }
   ],
   "source": [
    "#Round The Value And Print\n",
    "rou=round(foo,1)\n",
    "print(rou)"
   ]
  },
  {
   "cell_type": "code",
   "execution_count": 4,
   "id": "286eb743",
   "metadata": {},
   "outputs": [
    {
     "data": {
      "text/plain": [
       "5232"
      ]
     },
     "execution_count": 4,
     "metadata": {},
     "output_type": "execute_result"
    }
   ],
   "source": [
    "#Add The Two Values \n",
    "4555+677"
   ]
  },
  {
   "cell_type": "code",
   "execution_count": 5,
   "id": "a48ee338",
   "metadata": {},
   "outputs": [
    {
     "data": {
      "text/plain": [
       "4.4324324324324325"
      ]
     },
     "execution_count": 5,
     "metadata": {},
     "output_type": "execute_result"
    }
   ],
   "source": [
    "#Divided The Two Values\n",
    "3444/777"
   ]
  },
  {
   "cell_type": "code",
   "execution_count": 6,
   "id": "9ea55b8a",
   "metadata": {},
   "outputs": [
    {
     "data": {
      "text/plain": [
       "-44554"
      ]
     },
     "execution_count": 6,
     "metadata": {},
     "output_type": "execute_result"
    }
   ],
   "source": [
    "#Subrate The Two Values\n",
    "33334-77888"
   ]
  },
  {
   "cell_type": "code",
   "execution_count": 7,
   "id": "37cafd83",
   "metadata": {},
   "outputs": [
    {
     "data": {
      "text/plain": [
       "952217706900625"
      ]
     },
     "execution_count": 7,
     "metadata": {},
     "output_type": "execute_result"
    }
   ],
   "source": [
    "#Power Of The Value\n",
    "5555**4"
   ]
  },
  {
   "cell_type": "code",
   "execution_count": 8,
   "id": "192026a4",
   "metadata": {},
   "outputs": [
    {
     "data": {
      "text/plain": [
       "7"
      ]
     },
     "execution_count": 8,
     "metadata": {},
     "output_type": "execute_result"
    }
   ],
   "source": [
    "#Modules of  The Value\n",
    "455%56"
   ]
  },
  {
   "cell_type": "code",
   "execution_count": 9,
   "id": "28265aee",
   "metadata": {},
   "outputs": [
    {
     "data": {
      "text/plain": [
       "191819"
      ]
     },
     "execution_count": 9,
     "metadata": {},
     "output_type": "execute_result"
    }
   ],
   "source": [
    "#Add And Multiple Of The Values \n",
    "344*555+899"
   ]
  },
  {
   "cell_type": "code",
   "execution_count": 10,
   "id": "6950f5af",
   "metadata": {},
   "outputs": [
    {
     "data": {
      "text/plain": [
       "389400"
      ]
     },
     "execution_count": 10,
     "metadata": {},
     "output_type": "execute_result"
    }
   ],
   "source": [
    "#Add And Multiple Of The Values \n",
    "(344+5556)*66"
   ]
  },
  {
   "cell_type": "code",
   "execution_count": 11,
   "id": "fd3afff5",
   "metadata": {},
   "outputs": [
    {
     "data": {
      "text/plain": [
       "float"
      ]
     },
     "execution_count": 11,
     "metadata": {},
     "output_type": "execute_result"
    }
   ],
   "source": [
    "#Check The Type of Variable \n",
    "type(area)"
   ]
  },
  {
   "cell_type": "code",
   "execution_count": 12,
   "id": "0dff2067",
   "metadata": {},
   "outputs": [
    {
     "data": {
      "text/plain": [
       "int"
      ]
     },
     "execution_count": 12,
     "metadata": {},
     "output_type": "execute_result"
    }
   ],
   "source": [
    "#Check The Type of Value\n",
    "type(677)"
   ]
  },
  {
   "cell_type": "code",
   "execution_count": 13,
   "id": "5e69d560",
   "metadata": {},
   "outputs": [
    {
     "data": {
      "text/plain": [
       "float"
      ]
     },
     "execution_count": 13,
     "metadata": {},
     "output_type": "execute_result"
    }
   ],
   "source": [
    "#Check Type of The Value\n",
    "type(55.66)"
   ]
  },
  {
   "cell_type": "code",
   "execution_count": 14,
   "id": "1bebfb1c",
   "metadata": {},
   "outputs": [
    {
     "name": "stdout",
     "output_type": "stream",
     "text": [
      "The Number is : 0.00366\n"
     ]
    }
   ],
   "source": [
    "#Assign Expional Number and Print\n",
    "foo = 3.66e-3\n",
    "print(\"The Number is :\",foo)"
   ]
  },
  {
   "cell_type": "code",
   "execution_count": 15,
   "id": "9f7ce7de",
   "metadata": {},
   "outputs": [
    {
     "name": "stdout",
     "output_type": "stream",
     "text": [
      "The HexaDecmial Number is : 153\n"
     ]
    }
   ],
   "source": [
    "#Assign The HexaDecimal Number and Print\n",
    "hexa = 0X99\n",
    "print('The HexaDecmial Number is :', hexa)"
   ]
  },
  {
   "cell_type": "code",
   "execution_count": 16,
   "id": "0d62d064",
   "metadata": {},
   "outputs": [
    {
     "name": "stdout",
     "output_type": "stream",
     "text": [
      "The HexaDecmial Number is : 563\n"
     ]
    }
   ],
   "source": [
    "#Assign The HexaDecimal Number and Print\n",
    "hexa1 = 0X233\n",
    "print('The HexaDecmial Number is :', hexa1)"
   ]
  },
  {
   "cell_type": "code",
   "execution_count": 17,
   "id": "819ac96e",
   "metadata": {},
   "outputs": [
    {
     "name": "stdout",
     "output_type": "stream",
     "text": [
      "The Complex Number is : (3+2j)\n"
     ]
    }
   ],
   "source": [
    "#Assign The Complex Number and Print\n",
    "comple = 3+2j\n",
    "print('The Complex Number is :', comple)"
   ]
  },
  {
   "cell_type": "code",
   "execution_count": 18,
   "id": "c9c691c9",
   "metadata": {},
   "outputs": [
    {
     "name": "stdout",
     "output_type": "stream",
     "text": [
      "The Type of  Number is : <class 'complex'>\n"
     ]
    }
   ],
   "source": [
    "#Check The Complex Number Data Type and Print\n",
    "c = type(comple)\n",
    "print('The Type of  Number is :', c)"
   ]
  },
  {
   "cell_type": "code",
   "execution_count": 19,
   "id": "f5d0333d",
   "metadata": {},
   "outputs": [
    {
     "name": "stdout",
     "output_type": "stream",
     "text": [
      "The Complex Number is : (498+41j)\n"
     ]
    }
   ],
   "source": [
    "#Add  The TWO Complex  Number and Print\n",
    "c1 = 45-5J\n",
    "c2=453+46J\n",
    "c = c2+c1\n",
    "print('The Complex Number is :', c)"
   ]
  },
  {
   "cell_type": "code",
   "execution_count": 20,
   "id": "d76ab8ec",
   "metadata": {},
   "outputs": [],
   "source": [
    "#Assign the value\n",
    "a = 20"
   ]
  },
  {
   "cell_type": "code",
   "execution_count": 24,
   "id": "233b6080",
   "metadata": {},
   "outputs": [
    {
     "data": {
      "text/plain": [
       "'10100'"
      ]
     },
     "execution_count": 24,
     "metadata": {},
     "output_type": "execute_result"
    }
   ],
   "source": [
    "#Value Convert The Binary\n",
    "format(a,'b')"
   ]
  },
  {
   "cell_type": "code",
   "execution_count": 28,
   "id": "0350a4e1",
   "metadata": {},
   "outputs": [
    {
     "name": "stdout",
     "output_type": "stream",
     "text": [
      "0.2999999999999998\n"
     ]
    }
   ],
   "source": [
    "#Subrate The Value in Float and Print\n",
    "a= 5-4.7\n",
    "print(a)"
   ]
  },
  {
   "cell_type": "code",
   "execution_count": 29,
   "id": "06c6aa5a",
   "metadata": {},
   "outputs": [
    {
     "data": {
      "text/plain": [
       "0.3"
      ]
     },
     "execution_count": 29,
     "metadata": {},
     "output_type": "execute_result"
    }
   ],
   "source": [
    "#Used The Round Function\n",
    "round(a,1)"
   ]
  },
  {
   "cell_type": "markdown",
   "id": "0025afde",
   "metadata": {},
   "source": [
    "--------------------------------------------------------------------------------------------------------------------------------"
   ]
  }
 ],
 "metadata": {
  "kernelspec": {
   "display_name": "Python 3 (ipykernel)",
   "language": "python",
   "name": "python3"
  },
  "language_info": {
   "codemirror_mode": {
    "name": "ipython",
    "version": 3
   },
   "file_extension": ".py",
   "mimetype": "text/x-python",
   "name": "python",
   "nbconvert_exporter": "python",
   "pygments_lexer": "ipython3",
   "version": "3.10.4"
  }
 },
 "nbformat": 4,
 "nbformat_minor": 5
}
