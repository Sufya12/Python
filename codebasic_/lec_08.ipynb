{
 "cells": [
  {
   "cell_type": "markdown",
   "id": "19d498f6",
   "metadata": {},
   "source": [
    "# Lec _08"
   ]
  },
  {
   "cell_type": "code",
   "execution_count": 18,
   "id": "a25ebfe6",
   "metadata": {},
   "outputs": [
    {
     "name": "stdout",
     "output_type": "stream",
     "text": [
      "Enter The Integer Number :4\n",
      "4  Is  Even Number.\n"
     ]
    }
   ],
   "source": [
    "#Input Function Use\n",
    "n = int(input('Enter The Integer Number :'))\n",
    "# Apply the if Condition\n",
    "if n%2 ==0:\n",
    "    #Print the Value\n",
    "    print(n,\" Is  Even Number.\")\n",
    "\n",
    "#apply The Else Codition\n",
    "else:\n",
    "    #print The Value\n",
    "    print(n,' Is Odd Number')"
   ]
  },
  {
   "cell_type": "code",
   "execution_count": 2,
   "id": "cd2f9993",
   "metadata": {},
   "outputs": [
    {
     "data": {
      "text/plain": [
       "True"
      ]
     },
     "execution_count": 2,
     "metadata": {},
     "output_type": "execute_result"
    }
   ],
   "source": [
    "#Camparsion Operator\n",
    "#Equal\n",
    "2 ==2"
   ]
  },
  {
   "cell_type": "code",
   "execution_count": 3,
   "id": "328cfd21",
   "metadata": {},
   "outputs": [
    {
     "data": {
      "text/plain": [
       "True"
      ]
     },
     "execution_count": 3,
     "metadata": {},
     "output_type": "execute_result"
    }
   ],
   "source": [
    "#greater\n",
    "2>1"
   ]
  },
  {
   "cell_type": "code",
   "execution_count": 4,
   "id": "3afc552d",
   "metadata": {},
   "outputs": [
    {
     "data": {
      "text/plain": [
       "False"
      ]
     },
     "execution_count": 4,
     "metadata": {},
     "output_type": "execute_result"
    }
   ],
   "source": [
    "#Leeser\n",
    "3<1"
   ]
  },
  {
   "cell_type": "code",
   "execution_count": 5,
   "id": "48c67ccf",
   "metadata": {},
   "outputs": [
    {
     "data": {
      "text/plain": [
       "True"
      ]
     },
     "execution_count": 5,
     "metadata": {},
     "output_type": "execute_result"
    }
   ],
   "source": [
    "#Greater and Equal\n",
    "3>=2"
   ]
  },
  {
   "cell_type": "code",
   "execution_count": 6,
   "id": "e09b1a75",
   "metadata": {},
   "outputs": [
    {
     "data": {
      "text/plain": [
       "True"
      ]
     },
     "execution_count": 6,
     "metadata": {},
     "output_type": "execute_result"
    }
   ],
   "source": [
    "#And Logic operator are use\n",
    "3>1 and 2<5"
   ]
  },
  {
   "cell_type": "code",
   "execution_count": 7,
   "id": "70523a2c",
   "metadata": {},
   "outputs": [
    {
     "data": {
      "text/plain": [
       "False"
      ]
     },
     "execution_count": 7,
     "metadata": {},
     "output_type": "execute_result"
    }
   ],
   "source": [
    "#And Logic operator are use\n",
    "3>1 and 2<1"
   ]
  },
  {
   "cell_type": "code",
   "execution_count": 8,
   "id": "762b1dea",
   "metadata": {},
   "outputs": [
    {
     "data": {
      "text/plain": [
       "False"
      ]
     },
     "execution_count": 8,
     "metadata": {},
     "output_type": "execute_result"
    }
   ],
   "source": [
    "#And Logic operator are use\n",
    "1>1 and 2<5"
   ]
  },
  {
   "cell_type": "code",
   "execution_count": 9,
   "id": "d12f33c4",
   "metadata": {},
   "outputs": [
    {
     "data": {
      "text/plain": [
       "True"
      ]
     },
     "execution_count": 9,
     "metadata": {},
     "output_type": "execute_result"
    }
   ],
   "source": [
    "#OR Logic operator are use\n",
    "3>1 or  2<5"
   ]
  },
  {
   "cell_type": "code",
   "execution_count": 10,
   "id": "1f15b5db",
   "metadata": {},
   "outputs": [
    {
     "data": {
      "text/plain": [
       "True"
      ]
     },
     "execution_count": 10,
     "metadata": {},
     "output_type": "execute_result"
    }
   ],
   "source": [
    "#And Logic operator are use\n",
    "3>1 or 2<0"
   ]
  },
  {
   "cell_type": "code",
   "execution_count": 11,
   "id": "ee04f956",
   "metadata": {},
   "outputs": [
    {
     "data": {
      "text/plain": [
       "True"
      ]
     },
     "execution_count": 11,
     "metadata": {},
     "output_type": "execute_result"
    }
   ],
   "source": [
    "#OR Logic operator are use\n",
    "3>1 or  2<0 or 2<0"
   ]
  },
  {
   "cell_type": "code",
   "execution_count": 12,
   "id": "d426b5ae",
   "metadata": {},
   "outputs": [
    {
     "data": {
      "text/plain": [
       "False"
      ]
     },
     "execution_count": 12,
     "metadata": {},
     "output_type": "execute_result"
    }
   ],
   "source": [
    "#Not and equal operator are use\n",
    "not 1 ==1"
   ]
  },
  {
   "cell_type": "code",
   "execution_count": 13,
   "id": "02d3ba96",
   "metadata": {},
   "outputs": [],
   "source": [
    "#Create The String List \n",
    "indian = ['samosa','kachori','dal','naan']\n",
    "pakistani = [ 'nihari','paya','karahi']\n",
    "bangladeshi = ['panta bhat','chorchori','fauchka']"
   ]
  },
  {
   "cell_type": "code",
   "execution_count": 16,
   "id": "45912d70",
   "metadata": {},
   "outputs": [
    {
     "name": "stdout",
     "output_type": "stream",
     "text": [
      "Enter The Dish Name :fauchka\n"
     ]
    }
   ],
   "source": [
    "#Create The Variable \n",
    "dish = input ('Enter The Dish Name :')"
   ]
  },
  {
   "cell_type": "code",
   "execution_count": 17,
   "id": "9921410e",
   "metadata": {},
   "outputs": [
    {
     "name": "stdout",
     "output_type": "stream",
     "text": [
      "The dish is bangladeshi\n"
     ]
    }
   ],
   "source": [
    "#Use The If ,elif and Else Condition.\n",
    "if dish in indian:\n",
    "    print('The dish is indian')\n",
    "elif dish in pakistani:\n",
    "    print('The dish is pakistani')\n",
    "elif dish in bangladeshi:\n",
    "    print('The dish is bangladeshi')\n",
    "else:\n",
    "    print('This is based knowledge')"
   ]
  },
  {
   "cell_type": "code",
   "execution_count": 19,
   "id": "3be060d9",
   "metadata": {},
   "outputs": [
    {
     "name": "stdout",
     "output_type": "stream",
     "text": [
      "Enter The Number :455\n"
     ]
    }
   ],
   "source": [
    "#Assign The Variable Value By Using Input Function\n",
    "message = int(input('Enter The Number :'))"
   ]
  },
  {
   "cell_type": "code",
   "execution_count": 24,
   "id": "d16e6283",
   "metadata": {},
   "outputs": [],
   "source": [
    "#Assign The Variable\n",
    "mess = \"Number Is Even \" if message%2==0 else \"Number is Odd\" "
   ]
  },
  {
   "cell_type": "code",
   "execution_count": 28,
   "id": "d06ab33b",
   "metadata": {},
   "outputs": [
    {
     "name": "stdout",
     "output_type": "stream",
     "text": [
      "Number is Odd\n"
     ]
    }
   ],
   "source": [
    "#Print The Variable \n",
    "print(mess)"
   ]
  },
  {
   "cell_type": "markdown",
   "id": "3f3f79db",
   "metadata": {},
   "source": [
    "--------------------------------------------------------------------------------------------------------------------------------"
   ]
  }
 ],
 "metadata": {
  "kernelspec": {
   "display_name": "Python 3 (ipykernel)",
   "language": "python",
   "name": "python3"
  },
  "language_info": {
   "codemirror_mode": {
    "name": "ipython",
    "version": 3
   },
   "file_extension": ".py",
   "mimetype": "text/x-python",
   "name": "python",
   "nbconvert_exporter": "python",
   "pygments_lexer": "ipython3",
   "version": "3.10.4"
  }
 },
 "nbformat": 4,
 "nbformat_minor": 5
}
