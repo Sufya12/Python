{
 "cells": [
  {
   "cell_type": "markdown",
   "id": "fb69a0d3",
   "metadata": {},
   "source": [
    "# Lec_07"
   ]
  },
  {
   "cell_type": "code",
   "execution_count": 4,
   "id": "be27f519",
   "metadata": {},
   "outputs": [],
   "source": [
    "#Assign The List\n",
    "mithai = ['halva', 'kheer', 'jalebi','jamun']"
   ]
  },
  {
   "cell_type": "code",
   "execution_count": 5,
   "id": "f130b539",
   "metadata": {},
   "outputs": [
    {
     "data": {
      "text/plain": [
       "list"
      ]
     },
     "execution_count": 5,
     "metadata": {},
     "output_type": "execute_result"
    }
   ],
   "source": [
    "#Check The Type\n",
    "type(mithai)"
   ]
  },
  {
   "cell_type": "code",
   "execution_count": 6,
   "id": "e821f899",
   "metadata": {},
   "outputs": [
    {
     "data": {
      "text/plain": [
       "'halva'"
      ]
     },
     "execution_count": 6,
     "metadata": {},
     "output_type": "execute_result"
    }
   ],
   "source": [
    "#indexing The List\n",
    "mithai[0]"
   ]
  },
  {
   "cell_type": "code",
   "execution_count": 7,
   "id": "f0950d05",
   "metadata": {},
   "outputs": [
    {
     "data": {
      "text/plain": [
       "'kheer'"
      ]
     },
     "execution_count": 7,
     "metadata": {},
     "output_type": "execute_result"
    }
   ],
   "source": [
    "#indexing The List\n",
    "mithai[1]"
   ]
  },
  {
   "cell_type": "code",
   "execution_count": 8,
   "id": "4caf0423",
   "metadata": {},
   "outputs": [
    {
     "data": {
      "text/plain": [
       "'jamun'"
      ]
     },
     "execution_count": 8,
     "metadata": {},
     "output_type": "execute_result"
    }
   ],
   "source": [
    "#indexing The List\n",
    "mithai[3]"
   ]
  },
  {
   "cell_type": "code",
   "execution_count": 9,
   "id": "7f977e52",
   "metadata": {},
   "outputs": [
    {
     "ename": "IndexError",
     "evalue": "list index out of range",
     "output_type": "error",
     "traceback": [
      "\u001b[1;31m---------------------------------------------------------------------------\u001b[0m",
      "\u001b[1;31mIndexError\u001b[0m                                Traceback (most recent call last)",
      "Input \u001b[1;32mIn [9]\u001b[0m, in \u001b[0;36m<cell line: 2>\u001b[1;34m()\u001b[0m\n\u001b[0;32m      1\u001b[0m \u001b[38;5;66;03m#indexing The List\u001b[39;00m\n\u001b[1;32m----> 2\u001b[0m \u001b[43mmithai\u001b[49m\u001b[43m[\u001b[49m\u001b[38;5;241;43m6\u001b[39;49m\u001b[43m]\u001b[49m\n",
      "\u001b[1;31mIndexError\u001b[0m: list index out of range"
     ]
    }
   ],
   "source": [
    "#indexing The List\n",
    "mithai[6]"
   ]
  },
  {
   "cell_type": "code",
   "execution_count": 10,
   "id": "669be6f1",
   "metadata": {},
   "outputs": [
    {
     "data": {
      "text/plain": [
       "'jamun'"
      ]
     },
     "execution_count": 10,
     "metadata": {},
     "output_type": "execute_result"
    }
   ],
   "source": [
    "#indexing The List\n",
    "mithai[-1]"
   ]
  },
  {
   "cell_type": "code",
   "execution_count": 11,
   "id": "9a7a9d6b",
   "metadata": {},
   "outputs": [
    {
     "data": {
      "text/plain": [
       "'jalebi'"
      ]
     },
     "execution_count": 11,
     "metadata": {},
     "output_type": "execute_result"
    }
   ],
   "source": [
    "#indexing The List\n",
    "mithai[-2]"
   ]
  },
  {
   "cell_type": "code",
   "execution_count": 13,
   "id": "62559135",
   "metadata": {},
   "outputs": [
    {
     "data": {
      "text/plain": [
       "['kheer', 'jalebi']"
      ]
     },
     "execution_count": 13,
     "metadata": {},
     "output_type": "execute_result"
    }
   ],
   "source": [
    "#Silicing The List \n",
    "mithai[1:3]"
   ]
  },
  {
   "cell_type": "code",
   "execution_count": 14,
   "id": "ed45efc2",
   "metadata": {},
   "outputs": [
    {
     "data": {
      "text/plain": [
       "['halva', 'kheer', 'jalebi']"
      ]
     },
     "execution_count": 14,
     "metadata": {},
     "output_type": "execute_result"
    }
   ],
   "source": [
    "#Silicing The List \n",
    "mithai[0:3]"
   ]
  },
  {
   "cell_type": "code",
   "execution_count": 15,
   "id": "ca9b69d6",
   "metadata": {},
   "outputs": [
    {
     "data": {
      "text/plain": [
       "['halva', 'kheer', 'jalebi', 'jamun']"
      ]
     },
     "execution_count": 15,
     "metadata": {},
     "output_type": "execute_result"
    }
   ],
   "source": [
    "#Silicing The List \n",
    "mithai[:]"
   ]
  },
  {
   "cell_type": "code",
   "execution_count": 16,
   "id": "951a4c87",
   "metadata": {},
   "outputs": [
    {
     "data": {
      "text/plain": [
       "['kheer', 'jalebi', 'jamun']"
      ]
     },
     "execution_count": 16,
     "metadata": {},
     "output_type": "execute_result"
    }
   ],
   "source": [
    "#Silicing The List \n",
    "mithai[-3:]"
   ]
  },
  {
   "cell_type": "code",
   "execution_count": 17,
   "id": "59d3a5db",
   "metadata": {},
   "outputs": [
    {
     "data": {
      "text/plain": [
       "4"
      ]
     },
     "execution_count": 17,
     "metadata": {},
     "output_type": "execute_result"
    }
   ],
   "source": [
    "#Check The Length Of List\n",
    "len(mithai)"
   ]
  },
  {
   "cell_type": "code",
   "execution_count": 18,
   "id": "0ca9d79c",
   "metadata": {},
   "outputs": [
    {
     "data": {
      "text/plain": [
       "False"
      ]
     },
     "execution_count": 18,
     "metadata": {},
     "output_type": "execute_result"
    }
   ],
   "source": [
    "#Check The Product in List Yes Or Not\n",
    "'samsoa' in mithai"
   ]
  },
  {
   "cell_type": "code",
   "execution_count": 19,
   "id": "3244d74f",
   "metadata": {},
   "outputs": [
    {
     "data": {
      "text/plain": [
       "True"
      ]
     },
     "execution_count": 19,
     "metadata": {},
     "output_type": "execute_result"
    }
   ],
   "source": [
    "#Check The Product in List Yes Or Not\n",
    "'halva' in mithai"
   ]
  },
  {
   "cell_type": "code",
   "execution_count": 21,
   "id": "67248e55",
   "metadata": {},
   "outputs": [
    {
     "data": {
      "text/plain": [
       "True"
      ]
     },
     "execution_count": 21,
     "metadata": {},
     "output_type": "execute_result"
    }
   ],
   "source": [
    "#Check The Product Not in List \n",
    "'samsoa' not in mithai"
   ]
  },
  {
   "cell_type": "code",
   "execution_count": 22,
   "id": "cea5ce63",
   "metadata": {},
   "outputs": [],
   "source": [
    "#Add The New Product\n",
    "mithai.append('laddu')"
   ]
  },
  {
   "cell_type": "code",
   "execution_count": 23,
   "id": "0bfc0a33",
   "metadata": {},
   "outputs": [],
   "source": [
    "#Insert The New Product\n",
    "mithai.insert(2,'kulfi')"
   ]
  },
  {
   "cell_type": "code",
   "execution_count": 25,
   "id": "44a03707",
   "metadata": {},
   "outputs": [
    {
     "name": "stdout",
     "output_type": "stream",
     "text": [
      "['halva', 'kheer', 'kulfi', 'jalebi', 'jamun', 'laddu']\n"
     ]
    }
   ],
   "source": [
    "#Print The List \n",
    "print(mithai)"
   ]
  },
  {
   "cell_type": "code",
   "execution_count": 26,
   "id": "fa39822c",
   "metadata": {},
   "outputs": [],
   "source": [
    "#Create and Assign The List\n",
    "tikha = [ 'samosa','sev']"
   ]
  },
  {
   "cell_type": "code",
   "execution_count": 27,
   "id": "0f7a3d53",
   "metadata": {},
   "outputs": [
    {
     "name": "stdout",
     "output_type": "stream",
     "text": [
      "['samosa', 'sev']\n"
     ]
    }
   ],
   "source": [
    "#Print The List\n",
    "print(tikha)"
   ]
  },
  {
   "cell_type": "code",
   "execution_count": 28,
   "id": "6f7945b8",
   "metadata": {},
   "outputs": [],
   "source": [
    "#Add The List and Store The New List are Create\n",
    "food = mithai+tikha"
   ]
  },
  {
   "cell_type": "code",
   "execution_count": 29,
   "id": "1a6e0a2a",
   "metadata": {},
   "outputs": [
    {
     "name": "stdout",
     "output_type": "stream",
     "text": [
      "['halva', 'kheer', 'kulfi', 'jalebi', 'jamun', 'laddu', 'samosa', 'sev']\n"
     ]
    }
   ],
   "source": [
    "#Print The List\n",
    "print(food)"
   ]
  },
  {
   "cell_type": "code",
   "execution_count": 30,
   "id": "a872fda2",
   "metadata": {},
   "outputs": [
    {
     "ename": "TypeError",
     "evalue": "can only concatenate list (not \"str\") to list",
     "output_type": "error",
     "traceback": [
      "\u001b[1;31m---------------------------------------------------------------------------\u001b[0m",
      "\u001b[1;31mTypeError\u001b[0m                                 Traceback (most recent call last)",
      "Input \u001b[1;32mIn [30]\u001b[0m, in \u001b[0;36m<cell line: 2>\u001b[1;34m()\u001b[0m\n\u001b[0;32m      1\u001b[0m \u001b[38;5;66;03m#List Are Add The New Product \u001b[39;00m\n\u001b[1;32m----> 2\u001b[0m \u001b[43mfood\u001b[49m\u001b[43m \u001b[49m\u001b[38;5;241;43m+\u001b[39;49m\u001b[38;5;124;43m'\u001b[39;49m\u001b[38;5;124;43msev\u001b[39;49m\u001b[38;5;124;43m'\u001b[39;49m\n",
      "\u001b[1;31mTypeError\u001b[0m: can only concatenate list (not \"str\") to list"
     ]
    }
   ],
   "source": [
    "#List Are Add The New Product \n",
    "food +'sev'"
   ]
  },
  {
   "cell_type": "code",
   "execution_count": 31,
   "id": "08525011",
   "metadata": {},
   "outputs": [],
   "source": [
    "#Change The Product Of List \n",
    "mithai[0]='peda'"
   ]
  },
  {
   "cell_type": "code",
   "execution_count": 32,
   "id": "86b486a4",
   "metadata": {},
   "outputs": [
    {
     "name": "stdout",
     "output_type": "stream",
     "text": [
      "['peda', 'kheer', 'kulfi', 'jalebi', 'jamun', 'laddu']\n"
     ]
    }
   ],
   "source": [
    "#Print The List\n",
    "print(mithai)"
   ]
  },
  {
   "cell_type": "code",
   "execution_count": 33,
   "id": "e497b0f6",
   "metadata": {},
   "outputs": [],
   "source": [
    "#Change The Product Of List \n",
    "mithai[0:2]='samosa'"
   ]
  },
  {
   "cell_type": "code",
   "execution_count": 34,
   "id": "c38471b1",
   "metadata": {},
   "outputs": [
    {
     "name": "stdout",
     "output_type": "stream",
     "text": [
      "['s', 'a', 'm', 'o', 's', 'a', 'kulfi', 'jalebi', 'jamun', 'laddu']\n"
     ]
    }
   ],
   "source": [
    "#Print The List\n",
    "print(mithai)"
   ]
  },
  {
   "cell_type": "code",
   "execution_count": 39,
   "id": "c4de8db3",
   "metadata": {},
   "outputs": [],
   "source": [
    "#Change The Product Of List \n",
    "mithai[0:6]=['samosa']"
   ]
  },
  {
   "cell_type": "code",
   "execution_count": 40,
   "id": "7bbb6e3e",
   "metadata": {},
   "outputs": [
    {
     "name": "stdout",
     "output_type": "stream",
     "text": [
      "['samosa', 'kulfi', 'jalebi', 'jamun', 'laddu']\n"
     ]
    }
   ],
   "source": [
    "#Print The List\n",
    "print(mithai)"
   ]
  },
  {
   "cell_type": "code",
   "execution_count": 41,
   "id": "4506f323",
   "metadata": {},
   "outputs": [],
   "source": [
    "#Change The Product Of List \n",
    "mithai[0:6]=[4,5,6,9,8,7]"
   ]
  },
  {
   "cell_type": "code",
   "execution_count": 42,
   "id": "b3988b78",
   "metadata": {},
   "outputs": [
    {
     "name": "stdout",
     "output_type": "stream",
     "text": [
      "[4, 5, 6, 9, 8, 7]\n"
     ]
    }
   ],
   "source": [
    "#Print The List\n",
    "print(mithai)"
   ]
  },
  {
   "cell_type": "code",
   "execution_count": 43,
   "id": "db4b881d",
   "metadata": {},
   "outputs": [
    {
     "data": {
      "text/plain": [
       "['__add__',\n",
       " '__class__',\n",
       " '__class_getitem__',\n",
       " '__contains__',\n",
       " '__delattr__',\n",
       " '__delitem__',\n",
       " '__dir__',\n",
       " '__doc__',\n",
       " '__eq__',\n",
       " '__format__',\n",
       " '__ge__',\n",
       " '__getattribute__',\n",
       " '__getitem__',\n",
       " '__gt__',\n",
       " '__hash__',\n",
       " '__iadd__',\n",
       " '__imul__',\n",
       " '__init__',\n",
       " '__init_subclass__',\n",
       " '__iter__',\n",
       " '__le__',\n",
       " '__len__',\n",
       " '__lt__',\n",
       " '__mul__',\n",
       " '__ne__',\n",
       " '__new__',\n",
       " '__reduce__',\n",
       " '__reduce_ex__',\n",
       " '__repr__',\n",
       " '__reversed__',\n",
       " '__rmul__',\n",
       " '__setattr__',\n",
       " '__setitem__',\n",
       " '__sizeof__',\n",
       " '__str__',\n",
       " '__subclasshook__',\n",
       " 'append',\n",
       " 'clear',\n",
       " 'copy',\n",
       " 'count',\n",
       " 'extend',\n",
       " 'index',\n",
       " 'insert',\n",
       " 'pop',\n",
       " 'remove',\n",
       " 'reverse',\n",
       " 'sort']"
      ]
     },
     "execution_count": 43,
     "metadata": {},
     "output_type": "execute_result"
    }
   ],
   "source": [
    "#Print All Function In mithai List are Use\n",
    "dir(mithai)"
   ]
  },
  {
   "cell_type": "code",
   "execution_count": 45,
   "id": "5cce9ada",
   "metadata": {},
   "outputs": [
    {
     "data": {
      "text/plain": [
       "1"
      ]
     },
     "execution_count": 45,
     "metadata": {},
     "output_type": "execute_result"
    }
   ],
   "source": [
    "#Check The Index \n",
    "mithai.index(5)"
   ]
  },
  {
   "cell_type": "code",
   "execution_count": 48,
   "id": "9e06f387",
   "metadata": {},
   "outputs": [],
   "source": [
    "#Reverse The List\n",
    "mithai.reverse()"
   ]
  },
  {
   "cell_type": "code",
   "execution_count": 49,
   "id": "78d30989",
   "metadata": {},
   "outputs": [
    {
     "name": "stdout",
     "output_type": "stream",
     "text": [
      "[7, 8, 9, 6, 5, 4]\n"
     ]
    }
   ],
   "source": [
    "#Print The List\n",
    "print(mithai)"
   ]
  },
  {
   "cell_type": "markdown",
   "id": "301d5998",
   "metadata": {},
   "source": [
    "-------------------------------------------------------------------------------------------------------------------------------"
   ]
  }
 ],
 "metadata": {
  "kernelspec": {
   "display_name": "Python 3 (ipykernel)",
   "language": "python",
   "name": "python3"
  },
  "language_info": {
   "codemirror_mode": {
    "name": "ipython",
    "version": 3
   },
   "file_extension": ".py",
   "mimetype": "text/x-python",
   "name": "python",
   "nbconvert_exporter": "python",
   "pygments_lexer": "ipython3",
   "version": "3.9.12"
  }
 },
 "nbformat": 4,
 "nbformat_minor": 5
}
