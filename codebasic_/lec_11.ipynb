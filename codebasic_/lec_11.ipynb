{
 "cells": [
  {
   "cell_type": "markdown",
   "id": "5ab20f48",
   "metadata": {},
   "source": [
    "# Lec_11"
   ]
  },
  {
   "cell_type": "markdown",
   "id": "aed1b1cf",
   "metadata": {},
   "source": [
    "## Module"
   ]
  },
  {
   "cell_type": "code",
   "execution_count": 1,
   "id": "4dba071f",
   "metadata": {},
   "outputs": [],
   "source": [
    "#Import The Math Module\n",
    "import math"
   ]
  },
  {
   "cell_type": "code",
   "execution_count": 2,
   "id": "b1bace79",
   "metadata": {},
   "outputs": [
    {
     "data": {
      "text/plain": [
       "['__doc__',\n",
       " '__loader__',\n",
       " '__name__',\n",
       " '__package__',\n",
       " '__spec__',\n",
       " 'acos',\n",
       " 'acosh',\n",
       " 'asin',\n",
       " 'asinh',\n",
       " 'atan',\n",
       " 'atan2',\n",
       " 'atanh',\n",
       " 'ceil',\n",
       " 'comb',\n",
       " 'copysign',\n",
       " 'cos',\n",
       " 'cosh',\n",
       " 'degrees',\n",
       " 'dist',\n",
       " 'e',\n",
       " 'erf',\n",
       " 'erfc',\n",
       " 'exp',\n",
       " 'expm1',\n",
       " 'fabs',\n",
       " 'factorial',\n",
       " 'floor',\n",
       " 'fmod',\n",
       " 'frexp',\n",
       " 'fsum',\n",
       " 'gamma',\n",
       " 'gcd',\n",
       " 'hypot',\n",
       " 'inf',\n",
       " 'isclose',\n",
       " 'isfinite',\n",
       " 'isinf',\n",
       " 'isnan',\n",
       " 'isqrt',\n",
       " 'lcm',\n",
       " 'ldexp',\n",
       " 'lgamma',\n",
       " 'log',\n",
       " 'log10',\n",
       " 'log1p',\n",
       " 'log2',\n",
       " 'modf',\n",
       " 'nan',\n",
       " 'nextafter',\n",
       " 'perm',\n",
       " 'pi',\n",
       " 'pow',\n",
       " 'prod',\n",
       " 'radians',\n",
       " 'remainder',\n",
       " 'sin',\n",
       " 'sinh',\n",
       " 'sqrt',\n",
       " 'tan',\n",
       " 'tanh',\n",
       " 'tau',\n",
       " 'trunc',\n",
       " 'ulp']"
      ]
     },
     "execution_count": 2,
     "metadata": {},
     "output_type": "execute_result"
    }
   ],
   "source": [
    "#All Functions are Show\n",
    "dir(math)"
   ]
  },
  {
   "cell_type": "code",
   "execution_count": 4,
   "id": "8f7a4607",
   "metadata": {},
   "outputs": [
    {
     "data": {
      "text/plain": [
       "4.0"
      ]
     },
     "execution_count": 4,
     "metadata": {},
     "output_type": "execute_result"
    }
   ],
   "source": [
    "#Use The Square Root Function\n",
    "math.sqrt(16)"
   ]
  },
  {
   "cell_type": "code",
   "execution_count": 6,
   "id": "9d22e63f",
   "metadata": {},
   "outputs": [
    {
     "data": {
      "text/plain": [
       "3.141592653589793"
      ]
     },
     "execution_count": 6,
     "metadata": {},
     "output_type": "execute_result"
    }
   ],
   "source": [
    "#Pi Value\n",
    "math.pi"
   ]
  },
  {
   "cell_type": "code",
   "execution_count": 8,
   "id": "1889ac81",
   "metadata": {},
   "outputs": [
    {
     "data": {
      "text/plain": [
       "3.0"
      ]
     },
     "execution_count": 8,
     "metadata": {},
     "output_type": "execute_result"
    }
   ],
   "source": [
    "#Use Log Fuction\n",
    "math.log10(1000)"
   ]
  },
  {
   "cell_type": "code",
   "execution_count": 10,
   "id": "12382d9f",
   "metadata": {},
   "outputs": [],
   "source": [
    "#Import Module of Calendar\n",
    "import calendar"
   ]
  },
  {
   "cell_type": "code",
   "execution_count": 11,
   "id": "01566df2",
   "metadata": {},
   "outputs": [
    {
     "data": {
      "text/plain": [
       "['Calendar',\n",
       " 'EPOCH',\n",
       " 'FRIDAY',\n",
       " 'February',\n",
       " 'HTMLCalendar',\n",
       " 'IllegalMonthError',\n",
       " 'IllegalWeekdayError',\n",
       " 'January',\n",
       " 'LocaleHTMLCalendar',\n",
       " 'LocaleTextCalendar',\n",
       " 'MONDAY',\n",
       " 'SATURDAY',\n",
       " 'SUNDAY',\n",
       " 'THURSDAY',\n",
       " 'TUESDAY',\n",
       " 'TextCalendar',\n",
       " 'WEDNESDAY',\n",
       " '_EPOCH_ORD',\n",
       " '__all__',\n",
       " '__builtins__',\n",
       " '__cached__',\n",
       " '__doc__',\n",
       " '__file__',\n",
       " '__loader__',\n",
       " '__name__',\n",
       " '__package__',\n",
       " '__spec__',\n",
       " '_colwidth',\n",
       " '_locale',\n",
       " '_localized_day',\n",
       " '_localized_month',\n",
       " '_monthlen',\n",
       " '_nextmonth',\n",
       " '_prevmonth',\n",
       " '_spacing',\n",
       " 'c',\n",
       " 'calendar',\n",
       " 'datetime',\n",
       " 'day_abbr',\n",
       " 'day_name',\n",
       " 'different_locale',\n",
       " 'error',\n",
       " 'firstweekday',\n",
       " 'format',\n",
       " 'formatstring',\n",
       " 'isleap',\n",
       " 'leapdays',\n",
       " 'main',\n",
       " 'mdays',\n",
       " 'month',\n",
       " 'month_abbr',\n",
       " 'month_name',\n",
       " 'monthcalendar',\n",
       " 'monthrange',\n",
       " 'prcal',\n",
       " 'prmonth',\n",
       " 'prweek',\n",
       " 'repeat',\n",
       " 'setfirstweekday',\n",
       " 'sys',\n",
       " 'timegm',\n",
       " 'week',\n",
       " 'weekday',\n",
       " 'weekheader']"
      ]
     },
     "execution_count": 11,
     "metadata": {},
     "output_type": "execute_result"
    }
   ],
   "source": [
    "#All Function of calendar library\n",
    "dir(calendar)"
   ]
  },
  {
   "cell_type": "code",
   "execution_count": 13,
   "id": "fb80e12a",
   "metadata": {},
   "outputs": [],
   "source": [
    "#Assign the Value In Variable\n",
    "jan = calendar.month(2020,1)"
   ]
  },
  {
   "cell_type": "code",
   "execution_count": 15,
   "id": "014982a9",
   "metadata": {},
   "outputs": [
    {
     "name": "stdout",
     "output_type": "stream",
     "text": [
      "    January 2020\n",
      "Mo Tu We Th Fr Sa Su\n",
      "       1  2  3  4  5\n",
      " 6  7  8  9 10 11 12\n",
      "13 14 15 16 17 18 19\n",
      "20 21 22 23 24 25 26\n",
      "27 28 29 30 31\n",
      "\n"
     ]
    }
   ],
   "source": [
    "#Print The variable\n",
    "print(jan)"
   ]
  },
  {
   "cell_type": "code",
   "execution_count": 40,
   "id": "b216c115",
   "metadata": {},
   "outputs": [
    {
     "data": {
      "text/plain": [
       "True"
      ]
     },
     "execution_count": 40,
     "metadata": {},
     "output_type": "execute_result"
    }
   ],
   "source": [
    "calendar.isleap(2020)"
   ]
  },
  {
   "cell_type": "code",
   "execution_count": 45,
   "id": "59d966c2",
   "metadata": {},
   "outputs": [],
   "source": [
    "ja = calendar.month(2323,1)"
   ]
  },
  {
   "cell_type": "code",
   "execution_count": 46,
   "id": "74a8edbb",
   "metadata": {},
   "outputs": [
    {
     "name": "stdout",
     "output_type": "stream",
     "text": [
      "    January 2323\n",
      "Mo Tu We Th Fr Sa Su\n",
      " 1  2  3  4  5  6  7\n",
      " 8  9 10 11 12 13 14\n",
      "15 16 17 18 19 20 21\n",
      "22 23 24 25 26 27 28\n",
      "29 30 31\n",
      "\n"
     ]
    }
   ],
   "source": [
    "print(ja)"
   ]
  },
  {
   "cell_type": "code",
   "execution_count": 47,
   "id": "579c6044",
   "metadata": {},
   "outputs": [
    {
     "data": {
      "text/plain": [
       "False"
      ]
     },
     "execution_count": 47,
     "metadata": {},
     "output_type": "execute_result"
    }
   ],
   "source": [
    "calendar.isleap(2323)"
   ]
  },
  {
   "cell_type": "code",
   "execution_count": 18,
   "id": "9b92bf18",
   "metadata": {},
   "outputs": [
    {
     "data": {
      "text/plain": [
       "False"
      ]
     },
     "execution_count": 18,
     "metadata": {},
     "output_type": "execute_result"
    }
   ],
   "source": [
    "calendar.isleap(2010)"
   ]
  },
  {
   "cell_type": "code",
   "execution_count": 19,
   "id": "bdfdae44",
   "metadata": {},
   "outputs": [],
   "source": [
    "#Create The Function\n",
    "import math\n",
    "def area_circule(radius):\n",
    "    area = math.pi*(radius**2)\n",
    "    return area"
   ]
  },
  {
   "cell_type": "code",
   "execution_count": 20,
   "id": "60379dc8",
   "metadata": {},
   "outputs": [],
   "source": [
    "#Assign The Value\n",
    "radius = 45"
   ]
  },
  {
   "cell_type": "code",
   "execution_count": 21,
   "id": "70fba32a",
   "metadata": {},
   "outputs": [],
   "source": [
    "#Call The function\n",
    "cal = area_circule(radius)"
   ]
  },
  {
   "cell_type": "code",
   "execution_count": 22,
   "id": "e1505f0f",
   "metadata": {},
   "outputs": [
    {
     "name": "stdout",
     "output_type": "stream",
     "text": [
      "The Of Circule is  6361.725123519331\n"
     ]
    }
   ],
   "source": [
    "#Print The Area Of Circule\n",
    "print('The Of Circule is ',cal)"
   ]
  },
  {
   "cell_type": "code",
   "execution_count": 29,
   "id": "94e0ae1e",
   "metadata": {},
   "outputs": [],
   "source": [
    "#Create The Function \n",
    "def area_square(length):\n",
    "    area = length**2\n",
    "    return area"
   ]
  },
  {
   "cell_type": "code",
   "execution_count": 30,
   "id": "c6297b22",
   "metadata": {},
   "outputs": [],
   "source": [
    "#Assign  The Value\n",
    "lenght = 45"
   ]
  },
  {
   "cell_type": "code",
   "execution_count": 31,
   "id": "8be00da9",
   "metadata": {},
   "outputs": [],
   "source": [
    "#Call The Function\n",
    "ca = area_square(lenght)"
   ]
  },
  {
   "cell_type": "code",
   "execution_count": 32,
   "id": "b9e30a8b",
   "metadata": {},
   "outputs": [
    {
     "name": "stdout",
     "output_type": "stream",
     "text": [
      "The Area of Square is :  2025\n"
     ]
    }
   ],
   "source": [
    "#Print The Variable\n",
    "print('The Area of Square is : ',ca)"
   ]
  },
  {
   "cell_type": "code",
   "execution_count": 35,
   "id": "661a71ce",
   "metadata": {},
   "outputs": [
    {
     "ename": "ModuleNotFoundError",
     "evalue": "No module named 'area'",
     "output_type": "error",
     "traceback": [
      "\u001b[1;31m---------------------------------------------------------------------------\u001b[0m",
      "\u001b[1;31mModuleNotFoundError\u001b[0m                       Traceback (most recent call last)",
      "Input \u001b[1;32mIn [35]\u001b[0m, in \u001b[0;36m<cell line: 1>\u001b[1;34m()\u001b[0m\n\u001b[1;32m----> 1\u001b[0m \u001b[38;5;28;01mimport\u001b[39;00m \u001b[38;5;21;01marea\u001b[39;00m \n\u001b[0;32m      2\u001b[0m \u001b[38;5;28mprint\u001b[39m(area\u001b[38;5;241m.\u001b[39marea_circule(\u001b[38;5;241m10\u001b[39m))\n",
      "\u001b[1;31mModuleNotFoundError\u001b[0m: No module named 'area'"
     ]
    }
   ],
   "source": [
    "import area \n",
    "print(area.area_circule(10))"
   ]
  },
  {
   "cell_type": "code",
   "execution_count": null,
   "id": "23d5cef8",
   "metadata": {},
   "outputs": [],
   "source": []
  }
 ],
 "metadata": {
  "kernelspec": {
   "display_name": "Python 3 (ipykernel)",
   "language": "python",
   "name": "python3"
  },
  "language_info": {
   "codemirror_mode": {
    "name": "ipython",
    "version": 3
   },
   "file_extension": ".py",
   "mimetype": "text/x-python",
   "name": "python",
   "nbconvert_exporter": "python",
   "pygments_lexer": "ipython3",
   "version": "3.10.4"
  }
 },
 "nbformat": 4,
 "nbformat_minor": 5
}
