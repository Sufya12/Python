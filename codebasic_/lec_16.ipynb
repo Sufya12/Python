{
 "cells": [
  {
   "cell_type": "markdown",
   "id": "303b7ecb",
   "metadata": {},
   "source": [
    "# Lec 16"
   ]
  },
  {
   "cell_type": "code",
   "execution_count": 1,
   "id": "950d1db9",
   "metadata": {},
   "outputs": [
    {
     "name": "stdout",
     "output_type": "stream",
     "text": [
      "Teacher: Why are you late ,raghu?\n",
      "\n",
      "Raghu:Beause of the sign\n",
      "\n",
      "Teacher:What sign?\n",
      "\n",
      "Raghu:The one That says 'school Ahead ,Go slow'\n"
     ]
    }
   ],
   "source": [
    "#Open the File\n",
    "f = open('s.txt','r')\n",
    "#Use The For Loop\n",
    "for lines in f:\n",
    "    print(lines)\n",
    "#Close The File\n",
    "f.close()\n"
   ]
  },
  {
   "cell_type": "code",
   "execution_count": 2,
   "id": "10071ce1",
   "metadata": {},
   "outputs": [],
   "source": [
    "#Open the File\n",
    "f = open('s.txt','r')"
   ]
  },
  {
   "cell_type": "code",
   "execution_count": 4,
   "id": "3d7f60ff",
   "metadata": {},
   "outputs": [],
   "source": [
    "#Read The All Lines \n",
    "lines = f.readlines()"
   ]
  },
  {
   "cell_type": "code",
   "execution_count": 5,
   "id": "5947ed6c",
   "metadata": {},
   "outputs": [
    {
     "name": "stdout",
     "output_type": "stream",
     "text": [
      "['Teacher: Why are you late ,raghu?\\n', 'Raghu:Beause of the sign\\n', 'Teacher:What sign?\\n', \"Raghu:The one That says 'school Ahead ,Go slow'\"]\n"
     ]
    }
   ],
   "source": [
    "#Print The Lines \n",
    "print(lines)"
   ]
  },
  {
   "cell_type": "code",
   "execution_count": 6,
   "id": "56906bd6",
   "metadata": {},
   "outputs": [],
   "source": [
    "#Close The File\n",
    "f.close()"
   ]
  },
  {
   "cell_type": "code",
   "execution_count": 18,
   "id": "7152d8f9",
   "metadata": {},
   "outputs": [],
   "source": [
    "#Open the File\n",
    "f = open('s.txt','w')"
   ]
  },
  {
   "cell_type": "code",
   "execution_count": 17,
   "id": "c71da219",
   "metadata": {},
   "outputs": [],
   "source": [
    "#Write The All Lines \n",
    "lines = f.write('My name is sufyan ahmad')"
   ]
  },
  {
   "cell_type": "code",
   "execution_count": 19,
   "id": "4c29767f",
   "metadata": {},
   "outputs": [],
   "source": [
    "#Read The All Lines \n",
    "lines = f.writelines('I am Learn Python\\n I am Learn R \\n I learn java')"
   ]
  },
  {
   "cell_type": "code",
   "execution_count": 25,
   "id": "fad13dd8",
   "metadata": {},
   "outputs": [
    {
     "name": "stdout",
     "output_type": "stream",
     "text": [
      "rohit 9\n",
      "shakib 56\n",
      "babar 56\n",
      "rohit 120\n",
      "rohit 105\n",
      "shakib 78\n",
      "rohit 140\n",
      "babar  45\n",
      "rohit 130\n",
      "shakib 102\n",
      "babar 120\n",
      "babar 5\n",
      "shakib 72\n",
      "babar 67\n"
     ]
    }
   ],
   "source": [
    "#Read The Data And Split The Data \n",
    "with open('sa.csv','r') as f:\n",
    "    for line in f:\n",
    "        tokens=line.split(',')\n",
    "        player = tokens[0]\n",
    "        score =int(tokens[1])\n",
    "        print(player,score)"
   ]
  },
  {
   "cell_type": "code",
   "execution_count": 30,
   "id": "e713d3fd",
   "metadata": {},
   "outputs": [
    {
     "name": "stdout",
     "output_type": "stream",
     "text": [
      "{'rohit': [9, 120, 105, 140, 130], 'shakib': [56, 78, 102, 72], 'babar': [56, 120, 5, 67], 'babar ': [45]}\n"
     ]
    }
   ],
   "source": [
    "#Create The dictionary and Apply If and Else Condition\n",
    "player_scores={}\n",
    "with open('sa.csv','r') as f:\n",
    "    for line in f:\n",
    "        tokens=line.split(',')\n",
    "        player = tokens[0]\n",
    "        score =int(tokens[1])\n",
    "        \n",
    "        if player in player_scores:\n",
    "            player_scores[player].append(score)\n",
    "        else:\n",
    "            player_scores[player] =[score]\n",
    "print(player_scores)"
   ]
  },
  {
   "cell_type": "code",
   "execution_count": 34,
   "id": "0bc36a31",
   "metadata": {},
   "outputs": [
    {
     "name": "stdout",
     "output_type": "stream",
     "text": [
      "rohit ==>Min 9 ==>Max140 ==>Average100.8\n",
      "shakib ==>Min 56 ==>Max102 ==>Average77.0\n",
      "babar ==>Min 5 ==>Max120 ==>Average62.0\n",
      "babar  ==>Min 45 ==>Max45 ==>Average45.0\n"
     ]
    }
   ],
   "source": [
    "#Find The Max,Min And Avg Find The Data\n",
    "for player ,score_list in player_scores.items():\n",
    "    min_score =min(score_list)\n",
    "    max_score =max(score_list)\n",
    "    avg_score =sum(score_list)/len(score_list)\n",
    "    print(f'{player} ==>Min {min_score} ==>Max{max_score} ==>Average{avg_score}')"
   ]
  },
  {
   "cell_type": "markdown",
   "id": "0e28acfa",
   "metadata": {},
   "source": [
    "--------------------------------------------------------------------------------------------------------------------------------"
   ]
  },
  {
   "cell_type": "code",
   "execution_count": null,
   "id": "fe4715ca",
   "metadata": {},
   "outputs": [],
   "source": []
  },
  {
   "cell_type": "code",
   "execution_count": null,
   "id": "d918b5b4",
   "metadata": {},
   "outputs": [],
   "source": []
  }
 ],
 "metadata": {
  "kernelspec": {
   "display_name": "Python 3 (ipykernel)",
   "language": "python",
   "name": "python3"
  },
  "language_info": {
   "codemirror_mode": {
    "name": "ipython",
    "version": 3
   },
   "file_extension": ".py",
   "mimetype": "text/x-python",
   "name": "python",
   "nbconvert_exporter": "python",
   "pygments_lexer": "ipython3",
   "version": "3.10.4"
  }
 },
 "nbformat": 4,
 "nbformat_minor": 5
}
