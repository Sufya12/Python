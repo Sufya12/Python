{
 "cells": [
  {
   "cell_type": "markdown",
   "id": "8b8654d1",
   "metadata": {},
   "source": [
    "# Lec_10"
   ]
  },
  {
   "cell_type": "markdown",
   "id": "c3cfcc9b",
   "metadata": {},
   "source": [
    "## Function"
   ]
  },
  {
   "cell_type": "code",
   "execution_count": 13,
   "id": "f90532f4",
   "metadata": {},
   "outputs": [],
   "source": [
    "#Create The Function\n",
    "def find_total(exp):\n",
    "    '''\n",
    "    Sum of The List\n",
    "    '''\n",
    "    total =0\n",
    "    for item in exp :\n",
    "        total+=item\n",
    "    return total"
   ]
  },
  {
   "cell_type": "code",
   "execution_count": 14,
   "id": "4860d5f8",
   "metadata": {},
   "outputs": [
    {
     "name": "stdout",
     "output_type": "stream",
     "text": [
      "Help on function find_total in module __main__:\n",
      "\n",
      "find_total(exp)\n",
      "    Sum of The List\n",
      "\n",
      "None\n"
     ]
    }
   ],
   "source": [
    "#Print The String Inside The Function\n",
    "print(help(find_total))"
   ]
  },
  {
   "cell_type": "code",
   "execution_count": 5,
   "id": "47f55cd9",
   "metadata": {},
   "outputs": [],
   "source": [
    "#Create The List \n",
    "usman_expenses = [2,0,4,5,69,87]"
   ]
  },
  {
   "cell_type": "code",
   "execution_count": 6,
   "id": "73653a5b",
   "metadata": {},
   "outputs": [],
   "source": [
    "#Call The Function\n",
    "call = find_total(usman_expenses)"
   ]
  },
  {
   "cell_type": "code",
   "execution_count": 11,
   "id": "063ce522",
   "metadata": {},
   "outputs": [
    {
     "name": "stdout",
     "output_type": "stream",
     "text": [
      "The Total Expenses of Usman  Is  : 167\n"
     ]
    }
   ],
   "source": [
    "#Print The Variable\n",
    "print('The Total Expenses of Usman  Is  :',call)"
   ]
  },
  {
   "cell_type": "code",
   "execution_count": 9,
   "id": "01adb15e",
   "metadata": {},
   "outputs": [],
   "source": [
    "bilal_expenses=[7,89,65,422,311,22,22]"
   ]
  },
  {
   "cell_type": "code",
   "execution_count": 10,
   "id": "bf28a080",
   "metadata": {},
   "outputs": [],
   "source": [
    "#Call The Function\n",
    "call1 = find_total(bilal_expenses)"
   ]
  },
  {
   "cell_type": "code",
   "execution_count": 12,
   "id": "6c3ab7c1",
   "metadata": {},
   "outputs": [
    {
     "name": "stdout",
     "output_type": "stream",
     "text": [
      "The Total Expenses Of Bilal Is :  938\n"
     ]
    }
   ],
   "source": [
    "#Print The Variable\n",
    "print(\"The Total Expenses Of Bilal Is : \", call1)"
   ]
  },
  {
   "cell_type": "code",
   "execution_count": 23,
   "id": "911dd434",
   "metadata": {},
   "outputs": [],
   "source": [
    "#Create The Function \n",
    "def cylinder_volume(r,h):\n",
    "    '''\n",
    "    This Function Is Calculator The \n",
    "    Volume Of Cylinder\n",
    "    '''\n",
    "    volume = 3.14*(r**2)*h\n",
    "    return volume"
   ]
  },
  {
   "cell_type": "code",
   "execution_count": 24,
   "id": "bd2ce1e0",
   "metadata": {},
   "outputs": [],
   "source": [
    "#Assign The Value\n",
    "radius = 10\n",
    "height = 12"
   ]
  },
  {
   "cell_type": "code",
   "execution_count": 25,
   "id": "1e204d98",
   "metadata": {},
   "outputs": [],
   "source": [
    "#Call The Function \n",
    "vol = cylinder_volume(radius,height)"
   ]
  },
  {
   "cell_type": "code",
   "execution_count": 40,
   "id": "4f59939d",
   "metadata": {},
   "outputs": [
    {
     "name": "stdout",
     "output_type": "stream",
     "text": [
      "The Volume of Cylinder is 3837.08\n"
     ]
    }
   ],
   "source": [
    "#Print The Variable\n",
    "print('The Volume of Cylinder is',vol)"
   ]
  },
  {
   "cell_type": "code",
   "execution_count": 41,
   "id": "fa20ee7c",
   "metadata": {},
   "outputs": [],
   "source": [
    "#Create The Function \n",
    "def cylinder_volume(r,h):\n",
    "    '''\n",
    "    This Function Is Calculator The \n",
    "    Volume Of Cylinder\n",
    "    '''\n",
    "    volume = 3.14*(r**2)*h\n",
    "    return volume"
   ]
  },
  {
   "cell_type": "code",
   "execution_count": 42,
   "id": "692f1170",
   "metadata": {},
   "outputs": [],
   "source": [
    "#Assign The Value\n",
    "radius = 1\n",
    "height = 1222"
   ]
  },
  {
   "cell_type": "code",
   "execution_count": 43,
   "id": "e2bb9781",
   "metadata": {},
   "outputs": [],
   "source": [
    "#Call The Function \n",
    "vol = cylinder_volume(r = radius,h = height)"
   ]
  },
  {
   "cell_type": "code",
   "execution_count": 44,
   "id": "d92c9898",
   "metadata": {},
   "outputs": [
    {
     "name": "stdout",
     "output_type": "stream",
     "text": [
      "The Volume of Cylinder is 3837.08\n"
     ]
    }
   ],
   "source": [
    "#Print The Variable\n",
    "print('The Volume of Cylinder is',vol)"
   ]
  },
  {
   "cell_type": "code",
   "execution_count": 46,
   "id": "9d58229a",
   "metadata": {},
   "outputs": [],
   "source": [
    "#Create The Function  And Default Value Are Set\n",
    "def cylinder_volume(r=1,h=1):\n",
    "    '''\n",
    "    This Function Is Calculator The \n",
    "    Volume Of Cylinder\n",
    "    '''\n",
    "    volume = 3.14*(r**2)*h\n",
    "    return volume"
   ]
  },
  {
   "cell_type": "code",
   "execution_count": 53,
   "id": "39d8a61c",
   "metadata": {},
   "outputs": [],
   "source": [
    "#Assign The Value\n",
    "radius1 = 1\n",
    "height1 = 1222"
   ]
  },
  {
   "cell_type": "code",
   "execution_count": 54,
   "id": "d6f01d68",
   "metadata": {},
   "outputs": [],
   "source": [
    "#Call The Function \n",
    "vol1 = cylinder_volume(h=height1)"
   ]
  },
  {
   "cell_type": "code",
   "execution_count": 55,
   "id": "02b6c104",
   "metadata": {},
   "outputs": [
    {
     "name": "stdout",
     "output_type": "stream",
     "text": [
      "The Volume of Cylinder is 3837.08\n"
     ]
    }
   ],
   "source": [
    "#Print The Variable\n",
    "print('The Volume of Cylinder is',vol1)"
   ]
  },
  {
   "cell_type": "markdown",
   "id": "13ebc6b5",
   "metadata": {},
   "source": [
    "------------------------------------------------------------------------------------------------------------------------------"
   ]
  }
 ],
 "metadata": {
  "kernelspec": {
   "display_name": "Python 3 (ipykernel)",
   "language": "python",
   "name": "python3"
  },
  "language_info": {
   "codemirror_mode": {
    "name": "ipython",
    "version": 3
   },
   "file_extension": ".py",
   "mimetype": "text/x-python",
   "name": "python",
   "nbconvert_exporter": "python",
   "pygments_lexer": "ipython3",
   "version": "3.10.4"
  }
 },
 "nbformat": 4,
 "nbformat_minor": 5
}
