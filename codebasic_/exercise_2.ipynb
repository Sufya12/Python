{
 "cells": [
  {
   "cell_type": "markdown",
   "id": "f44d4055",
   "metadata": {},
   "source": [
    "# Exercise_02"
   ]
  },
  {
   "cell_type": "markdown",
   "id": "bb2384fd",
   "metadata": {},
   "source": [
    "## Question_01"
   ]
  },
  {
   "cell_type": "markdown",
   "id": "25a55b64",
   "metadata": {},
   "source": [
    "## You have a football field that is 92 meter long and 48.8 meter wide. Find out total area using python and print it."
   ]
  },
  {
   "cell_type": "code",
   "execution_count": 1,
   "id": "ac87290a",
   "metadata": {},
   "outputs": [
    {
     "name": "stdout",
     "output_type": "stream",
     "text": [
      "The Total Area is  2244.7999999999997\n"
     ]
    }
   ],
   "source": [
    "#Assign the Value ,Apply Formula and Print The Value\n",
    "base=92\n",
    "height=48.8\n",
    "total_area =1/2*base*height\n",
    "print('The Total Area is ',total_area)"
   ]
  },
  {
   "cell_type": "markdown",
   "id": "c8fab41f",
   "metadata": {},
   "source": [
    "## Question_02"
   ]
  },
  {
   "cell_type": "markdown",
   "id": "bb4f7864",
   "metadata": {},
   "source": [
    "## You bought 9 packets of potato chips from a store. Each packet costs 1.49 dollar and you gave shopkeeper 20 dollar. Find out using python, how many dollars is the shopkeeper going to give you back?"
   ]
  },
  {
   "cell_type": "code",
   "execution_count": 5,
   "id": "9a159de3",
   "metadata": {},
   "outputs": [
    {
     "name": "stdout",
     "output_type": "stream",
     "text": [
      "The Total Price Of Potato Chips Packet is  13.41\n",
      "The Price Are Return is   6.59\n"
     ]
    }
   ],
   "source": [
    "#Assign the Value ,Apply Formula and Print The Value\n",
    "potato_chips_packet_bought = 9\n",
    "each_packet = 1.49\n",
    "gave_shopkeeper_rupees =20\n",
    "price_of_potato_packet = potato_chips_packet_bought*each_packet\n",
    "price_return = gave_shopkeeper_rupees-price_of_potato_packet\n",
    "print('The Total Price Of Potato Chips Packet is ',price_of_potato_packet)\n",
    "print('The Price Are Return is  ',price_return)"
   ]
  },
  {
   "cell_type": "markdown",
   "id": "f2113bd2",
   "metadata": {},
   "source": [
    "## Question_03"
   ]
  },
  {
   "cell_type": "markdown",
   "id": "4c7dedb3",
   "metadata": {},
   "source": [
    "## You want to replace tiles in your bathroom which is exactly square and 5.5 feet is its length. If tiles cost 500 rs per square feet, how much will be the total cost to replace all tiles. Calculate and print the cost using python (Hint: Use power operator ** to find area of a square)"
   ]
  },
  {
   "cell_type": "code",
   "execution_count": 6,
   "id": "1fe6138a",
   "metadata": {},
   "outputs": [
    {
     "name": "stdout",
     "output_type": "stream",
     "text": [
      "The Total Area in Square is : 11803.064820864423\n",
      "The Price Of Total Area is : 5901532.410432212\n"
     ]
    }
   ],
   "source": [
    "#Assign the Value ,Apply Formula and Print The Value\n",
    "length_in_feet = 5.5\n",
    "length_in_square =length_in_feet**length_in_feet\n",
    "price_of_per_square = 500\n",
    "price_of_area=price_of_per_square*length_in_square\n",
    "print('The Total Area in Square is :',length_in_square)\n",
    "print('The Price Of Total Area is :',price_of_area)"
   ]
  },
  {
   "cell_type": "markdown",
   "id": "c826766d",
   "metadata": {},
   "source": [
    "## Question_04"
   ]
  },
  {
   "cell_type": "markdown",
   "id": "daf9fe70",
   "metadata": {},
   "source": [
    "## Print binary representation of number 17"
   ]
  },
  {
   "cell_type": "code",
   "execution_count": 7,
   "id": "885c6958",
   "metadata": {},
   "outputs": [
    {
     "name": "stdout",
     "output_type": "stream",
     "text": [
      "The Value In Binary Are Represented in : 10001\n"
     ]
    }
   ],
   "source": [
    "#Assign the Value ,Apply Function and Print The Value\n",
    "a = 17\n",
    "b = format(a,'b')\n",
    "print('The Value In Binary Are Represented in :',b)"
   ]
  },
  {
   "cell_type": "markdown",
   "id": "df662ec0",
   "metadata": {},
   "source": [
    "--------------------------------------------------------------------------------------------------------------------------------"
   ]
  }
 ],
 "metadata": {
  "kernelspec": {
   "display_name": "Python 3 (ipykernel)",
   "language": "python",
   "name": "python3"
  },
  "language_info": {
   "codemirror_mode": {
    "name": "ipython",
    "version": 3
   },
   "file_extension": ".py",
   "mimetype": "text/x-python",
   "name": "python",
   "nbconvert_exporter": "python",
   "pygments_lexer": "ipython3",
   "version": "3.10.4"
  }
 },
 "nbformat": 4,
 "nbformat_minor": 5
}
