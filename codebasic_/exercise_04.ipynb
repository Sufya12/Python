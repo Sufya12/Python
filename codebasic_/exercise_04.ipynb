{
 "cells": [
  {
   "cell_type": "markdown",
   "id": "58ede1d8",
   "metadata": {},
   "source": [
    "# exercise_04"
   ]
  },
  {
   "cell_type": "markdown",
   "id": "522c2c6b",
   "metadata": {},
   "source": [
    "## Question#01"
   ]
  },
  {
   "cell_type": "markdown",
   "id": "7953f4e9",
   "metadata": {},
   "source": [
    "### Write a program that can find area of a triangle. It should take base and height as an input from user and using that it should print an area of a triangle"
   ]
  },
  {
   "cell_type": "code",
   "execution_count": 1,
   "id": "32d19828",
   "metadata": {},
   "outputs": [
    {
     "name": "stdout",
     "output_type": "stream",
     "text": [
      "Base of Triangle is  45.0\n",
      "Height of Triangle 10.0\n",
      "Area of Triangle is  225.0\n"
     ]
    }
   ],
   "source": [
    "base_of_triangle = 45.0\n",
    "height_of_triangle = 10.0\n",
    "area_of_triangle = 1/2*base_of_triangle*height_of_triangle\n",
    "print(\"Base of Triangle is \",base_of_triangle)\n",
    "print(\"Height of Triangle\",height_of_triangle)\n",
    "print(\"Area of Triangle is \",area_of_triangle)"
   ]
  },
  {
   "cell_type": "markdown",
   "id": "1ccc83f6",
   "metadata": {},
   "source": [
    "## Question#02"
   ]
  },
  {
   "cell_type": "markdown",
   "id": "c96715d7",
   "metadata": {},
   "source": [
    "### Write a program that takes file name with extension as an input and prints just the file name without extension (you can assume that file extensions are always 3 character long"
   ]
  },
  {
   "cell_type": "code",
   "execution_count": 8,
   "id": "ee182251",
   "metadata": {},
   "outputs": [
    {
     "name": "stdout",
     "output_type": "stream",
     "text": [
      "Enter The File Name: \"a.txt\"\n",
      "The File  is : \"a.txt\"\n",
      "The File Name is : \"a\n"
     ]
    }
   ],
   "source": [
    "inpu = str(input(\"Enter The File Name: \"))\n",
    "a = inpu.split('.')\n",
    "b = a[0]\n",
    "print('The File  is :',inpu)\n",
    "print('The File Name is :',b)"
   ]
  }
 ],
 "metadata": {
  "kernelspec": {
   "display_name": "Python 3 (ipykernel)",
   "language": "python",
   "name": "python3"
  },
  "language_info": {
   "codemirror_mode": {
    "name": "ipython",
    "version": 3
   },
   "file_extension": ".py",
   "mimetype": "text/x-python",
   "name": "python",
   "nbconvert_exporter": "python",
   "pygments_lexer": "ipython3",
   "version": "3.9.12"
  }
 },
 "nbformat": 4,
 "nbformat_minor": 5
}
