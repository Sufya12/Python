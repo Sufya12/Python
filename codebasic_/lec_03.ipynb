{
 "cells": [
  {
   "cell_type": "markdown",
   "id": "a0c351c3",
   "metadata": {},
   "source": [
    "# Lec 03"
   ]
  },
  {
   "cell_type": "code",
   "execution_count": 10,
   "id": "379ed620",
   "metadata": {},
   "outputs": [],
   "source": [
    "#Assign The Variables\n",
    "rent = 3000\n",
    "petrol =200.05\n",
    "groceries = 2500.50"
   ]
  },
  {
   "cell_type": "code",
   "execution_count": 11,
   "id": "5d4483ae",
   "metadata": {},
   "outputs": [],
   "source": [
    "#Calculate The Total\n",
    "total = rent +petrol +groceries"
   ]
  },
  {
   "cell_type": "code",
   "execution_count": 12,
   "id": "a6eeed62",
   "metadata": {},
   "outputs": [
    {
     "name": "stdout",
     "output_type": "stream",
     "text": [
      "The Groceries Expense is  2500.5\n",
      "The Petrol Expense is  200.05\n",
      "The Rent Expense is 3000\n",
      "The Total Expense is  5700.55\n"
     ]
    }
   ],
   "source": [
    "#Print The Variable\n",
    "print('The Groceries Expense is ',groceries)\n",
    "print('The Petrol Expense is ',petrol)\n",
    "print('The Rent Expense is',rent)\n",
    "print(\"The Total Expense is \",total)"
   ]
  },
  {
   "cell_type": "code",
   "execution_count": 13,
   "id": "8952aeef",
   "metadata": {},
   "outputs": [],
   "source": [
    "#Assign The Variable \n",
    "gabbar = 'Amjad Khan'\n",
    "jay ='amitabh'\n",
    "thakur ='sanjiv Kumar'"
   ]
  },
  {
   "cell_type": "code",
   "execution_count": 14,
   "id": "a745e19a",
   "metadata": {},
   "outputs": [
    {
     "name": "stdout",
     "output_type": "stream",
     "text": [
      "Amjad Khan\n"
     ]
    }
   ],
   "source": [
    "#Print The Variable\n",
    "print(gabbar)"
   ]
  },
  {
   "cell_type": "code",
   "execution_count": 15,
   "id": "56fed3b7",
   "metadata": {},
   "outputs": [
    {
     "data": {
      "text/plain": [
       "str"
      ]
     },
     "execution_count": 15,
     "metadata": {},
     "output_type": "execute_result"
    }
   ],
   "source": [
    "#Check The Type \n",
    "type(gabbar)"
   ]
  },
  {
   "cell_type": "code",
   "execution_count": 16,
   "id": "a85cfba7",
   "metadata": {},
   "outputs": [
    {
     "data": {
      "text/plain": [
       "int"
      ]
     },
     "execution_count": 16,
     "metadata": {},
     "output_type": "execute_result"
    }
   ],
   "source": [
    "#Check The Type\n",
    "type(rent)"
   ]
  },
  {
   "cell_type": "code",
   "execution_count": 17,
   "id": "e114604f",
   "metadata": {},
   "outputs": [
    {
     "data": {
      "text/plain": [
       "float"
      ]
     },
     "execution_count": 17,
     "metadata": {},
     "output_type": "execute_result"
    }
   ],
   "source": [
    "#Check The Type\n",
    "type(petrol)"
   ]
  },
  {
   "cell_type": "code",
   "execution_count": 18,
   "id": "572df7ac",
   "metadata": {},
   "outputs": [],
   "source": [
    "#Assign The Variable\n",
    "learn_python = True\n",
    "learn_fortran=False"
   ]
  },
  {
   "cell_type": "code",
   "execution_count": 19,
   "id": "41b97812",
   "metadata": {},
   "outputs": [
    {
     "name": "stdout",
     "output_type": "stream",
     "text": [
      "True\n"
     ]
    }
   ],
   "source": [
    "#Print The Variable\n",
    "print(learn_python)"
   ]
  },
  {
   "cell_type": "code",
   "execution_count": 20,
   "id": "381f1495",
   "metadata": {},
   "outputs": [
    {
     "data": {
      "text/plain": [
       "bool"
      ]
     },
     "execution_count": 20,
     "metadata": {},
     "output_type": "execute_result"
    }
   ],
   "source": [
    "#Check The Variable\n",
    "type(learn_python)"
   ]
  },
  {
   "cell_type": "code",
   "execution_count": 21,
   "id": "15aa39ab",
   "metadata": {},
   "outputs": [
    {
     "ename": "SyntaxError",
     "evalue": "cannot assign to True (1678443757.py, line 2)",
     "output_type": "error",
     "traceback": [
      "\u001b[1;36m  Input \u001b[1;32mIn [21]\u001b[1;36m\u001b[0m\n\u001b[1;33m    True = 5\u001b[0m\n\u001b[1;37m    ^\u001b[0m\n\u001b[1;31mSyntaxError\u001b[0m\u001b[1;31m:\u001b[0m cannot assign to True\n"
     ]
    }
   ],
   "source": [
    "#Cannot Assign The Words\n",
    "True = 5"
   ]
  },
  {
   "cell_type": "code",
   "execution_count": 23,
   "id": "26d68219",
   "metadata": {},
   "outputs": [
    {
     "ename": "SyntaxError",
     "evalue": "cannot assign to expression here. Maybe you meant '==' instead of '='? (1124559536.py, line 2)",
     "output_type": "error",
     "traceback": [
      "\u001b[1;36m  Input \u001b[1;32mIn [23]\u001b[1;36m\u001b[0m\n\u001b[1;33m    foo+s = 58\u001b[0m\n\u001b[1;37m    ^\u001b[0m\n\u001b[1;31mSyntaxError\u001b[0m\u001b[1;31m:\u001b[0m cannot assign to expression here. Maybe you meant '==' instead of '='?\n"
     ]
    }
   ],
   "source": [
    "#Cannot Assign The Words\n",
    "foo+s = 58"
   ]
  },
  {
   "cell_type": "code",
   "execution_count": 24,
   "id": "407d526a",
   "metadata": {},
   "outputs": [
    {
     "ename": "SyntaxError",
     "evalue": "invalid decimal literal (4128740780.py, line 2)",
     "output_type": "error",
     "traceback": [
      "\u001b[1;36m  Input \u001b[1;32mIn [24]\u001b[1;36m\u001b[0m\n\u001b[1;33m    4t = 89\u001b[0m\n\u001b[1;37m    ^\u001b[0m\n\u001b[1;31mSyntaxError\u001b[0m\u001b[1;31m:\u001b[0m invalid decimal literal\n"
     ]
    }
   ],
   "source": [
    "#Cannot Assign The Words \n",
    "4t = 89"
   ]
  },
  {
   "cell_type": "code",
   "execution_count": 26,
   "id": "387d4b18",
   "metadata": {},
   "outputs": [
    {
     "ename": "SyntaxError",
     "evalue": "invalid syntax. Maybe you meant '==' or ':=' instead of '='? (2399479321.py, line 2)",
     "output_type": "error",
     "traceback": [
      "\u001b[1;36m  Input \u001b[1;32mIn [26]\u001b[1;36m\u001b[0m\n\u001b[1;33m    @dd= 67\u001b[0m\n\u001b[1;37m     ^\u001b[0m\n\u001b[1;31mSyntaxError\u001b[0m\u001b[1;31m:\u001b[0m invalid syntax. Maybe you meant '==' or ':=' instead of '='?\n"
     ]
    }
   ],
   "source": [
    "#Cannot Assign The Words \n",
    "@dd= 67"
   ]
  },
  {
   "cell_type": "code",
   "execution_count": 27,
   "id": "bdead07d",
   "metadata": {},
   "outputs": [],
   "source": [
    "#Assign The Variable \n",
    "bade_bahi = 5\n",
    "bade_Bahi =19"
   ]
  },
  {
   "cell_type": "code",
   "execution_count": 29,
   "id": "8ef799fb",
   "metadata": {},
   "outputs": [
    {
     "name": "stdout",
     "output_type": "stream",
     "text": [
      "The bade bahi : 5\n",
      "The bade Bahi : 19\n"
     ]
    }
   ],
   "source": [
    "#Print The Variable \n",
    "print(\"The bade bahi :\",bade_bahi)\n",
    "print('The bade Bahi :',bade_Bahi)"
   ]
  },
  {
   "cell_type": "code",
   "execution_count": 31,
   "id": "e04a993e",
   "metadata": {},
   "outputs": [],
   "source": [
    "#Assign The Variable \n",
    "foo =5\n",
    "foo ='jalebi'\n",
    "bar =foo"
   ]
  },
  {
   "cell_type": "code",
   "execution_count": 35,
   "id": "f7f1c9de",
   "metadata": {},
   "outputs": [
    {
     "data": {
      "text/plain": [
       "2396266367600"
      ]
     },
     "execution_count": 35,
     "metadata": {},
     "output_type": "execute_result"
    }
   ],
   "source": [
    "#Check The Assign Value Same or Not\n",
    "id(bar)"
   ]
  },
  {
   "cell_type": "code",
   "execution_count": 36,
   "id": "83cfd402",
   "metadata": {},
   "outputs": [
    {
     "data": {
      "text/plain": [
       "2396266367600"
      ]
     },
     "execution_count": 36,
     "metadata": {},
     "output_type": "execute_result"
    }
   ],
   "source": [
    "#Check The Assign Value Same or Not\n",
    "id(foo)"
   ]
  },
  {
   "cell_type": "code",
   "execution_count": 37,
   "id": "2db1c1cb",
   "metadata": {},
   "outputs": [],
   "source": [
    "#Assign The Value\n",
    "bar = 'samosa'"
   ]
  },
  {
   "cell_type": "code",
   "execution_count": 38,
   "id": "82742281",
   "metadata": {},
   "outputs": [
    {
     "data": {
      "text/plain": [
       "2396266367600"
      ]
     },
     "execution_count": 38,
     "metadata": {},
     "output_type": "execute_result"
    }
   ],
   "source": [
    "#Check The Assign Value Same or Not\n",
    "id(foo)"
   ]
  },
  {
   "cell_type": "code",
   "execution_count": 39,
   "id": "2e06c5dc",
   "metadata": {},
   "outputs": [
    {
     "data": {
      "text/plain": [
       "2396266455664"
      ]
     },
     "execution_count": 39,
     "metadata": {},
     "output_type": "execute_result"
    }
   ],
   "source": [
    "#Check The Assign Value Same or Not\n",
    "id(bar)"
   ]
  },
  {
   "cell_type": "code",
   "execution_count": 40,
   "id": "8c21222a",
   "metadata": {},
   "outputs": [],
   "source": [
    "#Assign The Value\n",
    "foo = 'kachodi'"
   ]
  },
  {
   "cell_type": "code",
   "execution_count": 41,
   "id": "1f7aaa90",
   "metadata": {},
   "outputs": [
    {
     "name": "stdout",
     "output_type": "stream",
     "text": [
      "kachodi\n"
     ]
    }
   ],
   "source": [
    "#Print The Value\n",
    "print(foo)"
   ]
  },
  {
   "cell_type": "markdown",
   "id": "e172d72d",
   "metadata": {},
   "source": [
    "--------------------------------------------------------------------------------------------------------------------------------"
   ]
  }
 ],
 "metadata": {
  "kernelspec": {
   "display_name": "Python 3 (ipykernel)",
   "language": "python",
   "name": "python3"
  },
  "language_info": {
   "codemirror_mode": {
    "name": "ipython",
    "version": 3
   },
   "file_extension": ".py",
   "mimetype": "text/x-python",
   "name": "python",
   "nbconvert_exporter": "python",
   "pygments_lexer": "ipython3",
   "version": "3.10.4"
  }
 },
 "nbformat": 4,
 "nbformat_minor": 5
}
