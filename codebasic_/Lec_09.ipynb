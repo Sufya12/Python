{
 "cells": [
  {
   "cell_type": "markdown",
   "id": "d6b85e1a",
   "metadata": {},
   "source": [
    "# Lec_09"
   ]
  },
  {
   "cell_type": "markdown",
   "id": "41c2424a",
   "metadata": {},
   "source": [
    "## Loops"
   ]
  },
  {
   "cell_type": "code",
   "execution_count": 1,
   "id": "acdf6d07",
   "metadata": {},
   "outputs": [],
   "source": [
    "#Assign The List\n",
    "exp = [2900,780,5200,7800,2500,63300]"
   ]
  },
  {
   "cell_type": "code",
   "execution_count": 2,
   "id": "33a9e9d1",
   "metadata": {},
   "outputs": [],
   "source": [
    "#Calculate The Total Using The Indexing\n",
    "total = exp[0]+exp[1]+exp[2]+exp[3]+exp[4]+exp[5]"
   ]
  },
  {
   "cell_type": "code",
   "execution_count": 3,
   "id": "ed052327",
   "metadata": {},
   "outputs": [
    {
     "name": "stdout",
     "output_type": "stream",
     "text": [
      "82480\n"
     ]
    }
   ],
   "source": [
    "#Print The Variable\n",
    "print(total)"
   ]
  },
  {
   "cell_type": "code",
   "execution_count": 5,
   "id": "f0a8d11a",
   "metadata": {},
   "outputs": [],
   "source": [
    "#Assign The Variable\n",
    "total1=0"
   ]
  },
  {
   "cell_type": "code",
   "execution_count": 6,
   "id": "33d5bfea",
   "metadata": {},
   "outputs": [],
   "source": [
    "#Use The Loop\n",
    "for item in exp:\n",
    "    total1 = total1+item"
   ]
  },
  {
   "cell_type": "code",
   "execution_count": 7,
   "id": "2c7d06d2",
   "metadata": {},
   "outputs": [
    {
     "name": "stdout",
     "output_type": "stream",
     "text": [
      "82480\n"
     ]
    }
   ],
   "source": [
    "#Print The Variable\n",
    "print(total1)"
   ]
  },
  {
   "cell_type": "code",
   "execution_count": 8,
   "id": "48caad76",
   "metadata": {},
   "outputs": [
    {
     "name": "stdout",
     "output_type": "stream",
     "text": [
      "1\n",
      "2\n",
      "3\n",
      "4\n",
      "5\n",
      "6\n",
      "7\n",
      "8\n",
      "9\n",
      "10\n"
     ]
    }
   ],
   "source": [
    "#Create The Loop\n",
    "for i in range(1,11):\n",
    "    print(i)"
   ]
  },
  {
   "cell_type": "code",
   "execution_count": 9,
   "id": "01810bec",
   "metadata": {},
   "outputs": [
    {
     "name": "stdout",
     "output_type": "stream",
     "text": [
      "1\n",
      "4\n",
      "9\n",
      "16\n",
      "25\n",
      "36\n",
      "49\n",
      "64\n",
      "81\n",
      "100\n"
     ]
    }
   ],
   "source": [
    "#Create the Loop\n",
    "for i in range (1,11):\n",
    "    print(i*i)"
   ]
  },
  {
   "cell_type": "code",
   "execution_count": 10,
   "id": "628b7113",
   "metadata": {},
   "outputs": [],
   "source": [
    "#Create The Variable\n",
    "total2 =0"
   ]
  },
  {
   "cell_type": "code",
   "execution_count": 11,
   "id": "f033c8f5",
   "metadata": {},
   "outputs": [],
   "source": [
    "#Create The List\n",
    "exp= [1200,4500,7800,8500,9600,7800]"
   ]
  },
  {
   "cell_type": "code",
   "execution_count": 12,
   "id": "86cde6ed",
   "metadata": {},
   "outputs": [
    {
     "name": "stdout",
     "output_type": "stream",
     "text": [
      "Month  1 Expense 1200\n",
      "Month  2 Expense 4500\n",
      "Month  3 Expense 7800\n",
      "Month  4 Expense 8500\n",
      "Month  5 Expense 9600\n",
      "Month  6 Expense 7800\n"
     ]
    }
   ],
   "source": [
    "#Create The Loop\n",
    "for i in range (len(exp)):\n",
    "    print(\"Month \",i+1,\"Expense\",exp[i])\n",
    "    total2 = total2+exp[i]      "
   ]
  },
  {
   "cell_type": "code",
   "execution_count": 13,
   "id": "27677f52",
   "metadata": {},
   "outputs": [
    {
     "name": "stdout",
     "output_type": "stream",
     "text": [
      "The Total  Expense is: 39400\n"
     ]
    }
   ],
   "source": [
    "#Print The Loop\n",
    "print(\"The Total  Expense is:\" ,total2)"
   ]
  },
  {
   "cell_type": "code",
   "execution_count": 14,
   "id": "6373a624",
   "metadata": {},
   "outputs": [],
   "source": [
    "#Create The Variable\n",
    "key_location = \"chair\""
   ]
  },
  {
   "cell_type": "code",
   "execution_count": 15,
   "id": "1ad2d7aa",
   "metadata": {},
   "outputs": [],
   "source": [
    "#Create The Variable\n",
    "location = [\"garage\",\"chair\",\"bendroom\",\"closet\"]"
   ]
  },
  {
   "cell_type": "code",
   "execution_count": 16,
   "id": "9e71343a",
   "metadata": {},
   "outputs": [
    {
     "name": "stdout",
     "output_type": "stream",
     "text": [
      "The Key is Found in :  garage\n",
      "The key is Found in : chair\n"
     ]
    }
   ],
   "source": [
    "#Create The Loop And Apply Conditions\n",
    "for i in location:\n",
    "    if i == key_location:\n",
    "        print(\"The key is Found in :\",i)\n",
    "        break\n",
    "    else:\n",
    "        print(\"The Key is Found in : \", i)"
   ]
  },
  {
   "cell_type": "code",
   "execution_count": 17,
   "id": "905326fd",
   "metadata": {},
   "outputs": [
    {
     "name": "stdout",
     "output_type": "stream",
     "text": [
      "1\n",
      "9\n",
      "25\n"
     ]
    }
   ],
   "source": [
    "#Create The Loop and Apply The Condition\n",
    "for i in range (1,6):\n",
    "    if i%2==0:\n",
    "        continue\n",
    "    print(i*i)        "
   ]
  },
  {
   "cell_type": "code",
   "execution_count": 18,
   "id": "ec8b895c",
   "metadata": {},
   "outputs": [],
   "source": [
    "#Create And Assign The Variable\n",
    "i =0"
   ]
  },
  {
   "cell_type": "code",
   "execution_count": 19,
   "id": "582c1a55",
   "metadata": {},
   "outputs": [
    {
     "name": "stdout",
     "output_type": "stream",
     "text": [
      "0\n",
      "1\n",
      "2\n",
      "3\n",
      "4\n"
     ]
    }
   ],
   "source": [
    "#Create The Loop\n",
    "while i<5:\n",
    "    print(i)\n",
    "    i=i+1"
   ]
  },
  {
   "cell_type": "markdown",
   "id": "13cf987e",
   "metadata": {},
   "source": [
    "--------------------------------------------------------------------------------------------------------------------------------"
   ]
  }
 ],
 "metadata": {
  "kernelspec": {
   "display_name": "Python 3 (ipykernel)",
   "language": "python",
   "name": "python3"
  },
  "language_info": {
   "codemirror_mode": {
    "name": "ipython",
    "version": 3
   },
   "file_extension": ".py",
   "mimetype": "text/x-python",
   "name": "python",
   "nbconvert_exporter": "python",
   "pygments_lexer": "ipython3",
   "version": "3.10.4"
  }
 },
 "nbformat": 4,
 "nbformat_minor": 5
}
