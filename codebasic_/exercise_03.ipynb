{
 "cells": [
  {
   "cell_type": "markdown",
   "id": "2267e03f",
   "metadata": {},
   "source": [
    "# Question_01"
   ]
  },
  {
   "cell_type": "markdown",
   "id": "232b821b",
   "metadata": {},
   "source": [
    "## Create 3 variables to store street, city and country, now create address variable to store entire address. Use two ways of creating this variable, one using + operator and the other using f-string. Now Print the address in such a way that the street, city and country prints in a separate line"
   ]
  },
  {
   "cell_type": "code",
   "execution_count": 5,
   "id": "97af72b3",
   "metadata": {},
   "outputs": [],
   "source": [
    "#Assign The String\n",
    "street ='7 main'\n",
    "city = 'Gujranwala'\n",
    "country ='Pakistan'\n",
    "address = street+' '+city+' '+country\n",
    "address1 = f'{street} {city} {country}'"
   ]
  },
  {
   "cell_type": "code",
   "execution_count": 6,
   "id": "bda9c9fe",
   "metadata": {},
   "outputs": [
    {
     "name": "stdout",
     "output_type": "stream",
     "text": [
      "7 main Gujranwala Pakistan\n"
     ]
    }
   ],
   "source": [
    "#Print The String\n",
    "print(address)"
   ]
  },
  {
   "cell_type": "code",
   "execution_count": 7,
   "id": "46b36665",
   "metadata": {},
   "outputs": [
    {
     "name": "stdout",
     "output_type": "stream",
     "text": [
      "7 main Gujranwala Pakistan\n"
     ]
    }
   ],
   "source": [
    "#Print The String\n",
    "print(address1)"
   ]
  },
  {
   "cell_type": "markdown",
   "id": "5b884d3f",
   "metadata": {},
   "source": [
    "# Question_02"
   ]
  },
  {
   "cell_type": "markdown",
   "id": "669d5cc4",
   "metadata": {},
   "source": [
    "## Create a variable to store the string \"Earth revolves around the sun\"\n",
    "### i Print \"revolves\" using slice operator\n",
    "### ii Print \"sun\" using negative index"
   ]
  },
  {
   "cell_type": "code",
   "execution_count": 11,
   "id": "2c15c2ed",
   "metadata": {},
   "outputs": [
    {
     "name": "stdout",
     "output_type": "stream",
     "text": [
      "revolves\n",
      "sun\n"
     ]
    }
   ],
   "source": [
    "#Assign The String And Print\n",
    "a = \"Earth revolves around the sun\"\n",
    "print(a[6:14])\n",
    "print(a[-3:])"
   ]
  },
  {
   "cell_type": "markdown",
   "id": "8b6f4e89",
   "metadata": {},
   "source": [
    "# Question_03"
   ]
  },
  {
   "cell_type": "markdown",
   "id": "ae17dec5",
   "metadata": {},
   "source": [
    "## Create two variables to store how many fruits and vegetables you eat in a day. Now Print \"I eat x veggies and y fruits daily\" where x and y presents vegetables and fruits that you eat everyday. Use python f string for this."
   ]
  },
  {
   "cell_type": "code",
   "execution_count": 13,
   "id": "e9da6c38",
   "metadata": {},
   "outputs": [
    {
     "name": "stdout",
     "output_type": "stream",
     "text": [
      "I eat 3 veggies and 4 fruits daily\n"
     ]
    }
   ],
   "source": [
    "#Assign The String And Print\n",
    "x = 3\n",
    "y = 4\n",
    "print(f\"I eat {x} veggies and {y} fruits daily\")"
   ]
  },
  {
   "cell_type": "markdown",
   "id": "9b417c02",
   "metadata": {},
   "source": [
    "# Question_04"
   ]
  },
  {
   "cell_type": "markdown",
   "id": "474532fc",
   "metadata": {},
   "source": [
    "## I have a string variable called s='maine 200 banana khaye'. This of course is a wrong statement, the correct statement is 'maine 10 samosa khaye'. Replace incorrect words in original strong with new ones and print the new string. Also try to do this in one line."
   ]
  },
  {
   "cell_type": "code",
   "execution_count": 16,
   "id": "d5c6d4e8",
   "metadata": {},
   "outputs": [
    {
     "name": "stdout",
     "output_type": "stream",
     "text": [
      "maine 10 samosa khaye\n"
     ]
    }
   ],
   "source": [
    "#Assign The String And Print\n",
    "s='maine 200 banana khaye'\n",
    "s1 = s.replace('200 banana','10 samosa')\n",
    "print(s1)"
   ]
  },
  {
   "cell_type": "markdown",
   "id": "0b4f1960",
   "metadata": {},
   "source": [
    "--------------------------------------------------------------------------------------------------------------------------------"
   ]
  }
 ],
 "metadata": {
  "kernelspec": {
   "display_name": "Python 3 (ipykernel)",
   "language": "python",
   "name": "python3"
  },
  "language_info": {
   "codemirror_mode": {
    "name": "ipython",
    "version": 3
   },
   "file_extension": ".py",
   "mimetype": "text/x-python",
   "name": "python",
   "nbconvert_exporter": "python",
   "pygments_lexer": "ipython3",
   "version": "3.10.4"
  }
 },
 "nbformat": 4,
 "nbformat_minor": 5
}
