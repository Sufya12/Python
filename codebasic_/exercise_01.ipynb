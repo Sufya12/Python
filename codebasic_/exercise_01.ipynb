{
 "cells": [
  {
   "cell_type": "markdown",
   "id": "0b635c2c",
   "metadata": {},
   "source": [
    "# Question_01"
   ]
  },
  {
   "cell_type": "markdown",
   "id": "3378b9e0",
   "metadata": {},
   "source": [
    "## Create a variable called break and assign it a value 5. See what happens and find out the reason behind the behavior that you see."
   ]
  },
  {
   "cell_type": "code",
   "execution_count": 1,
   "id": "f4d87431",
   "metadata": {},
   "outputs": [
    {
     "ename": "SyntaxError",
     "evalue": "invalid syntax (3917874094.py, line 1)",
     "output_type": "error",
     "traceback": [
      "\u001b[1;36m  Input \u001b[1;32mIn [1]\u001b[1;36m\u001b[0m\n\u001b[1;33m    break =5\u001b[0m\n\u001b[1;37m          ^\u001b[0m\n\u001b[1;31mSyntaxError\u001b[0m\u001b[1;31m:\u001b[0m invalid syntax\n"
     ]
    }
   ],
   "source": [
    "#Assign The Value\n",
    "break =5"
   ]
  },
  {
   "cell_type": "markdown",
   "id": "ffb9fa03",
   "metadata": {},
   "source": [
    "# Questtion_02"
   ]
  },
  {
   "cell_type": "markdown",
   "id": "69617a97",
   "metadata": {},
   "source": [
    "## Create two variables. One to store your birth year and another one to store current year. Now calculate your age using these two variables"
   ]
  },
  {
   "cell_type": "code",
   "execution_count": 2,
   "id": "9d4511fb",
   "metadata": {},
   "outputs": [
    {
     "name": "stdout",
     "output_type": "stream",
     "text": [
      "Your Age is : 22\n"
     ]
    }
   ],
   "source": [
    "#Assign The Value and Print\n",
    "birth_year=2001\n",
    "current_year=2023\n",
    "age =current_year - birth_year\n",
    "print('Your Age is :',age)"
   ]
  },
  {
   "cell_type": "markdown",
   "id": "0d3faac2",
   "metadata": {},
   "source": [
    "# Question_03"
   ]
  },
  {
   "cell_type": "markdown",
   "id": "065244ca",
   "metadata": {},
   "source": [
    "## Store your first, middle and last name in three different variables and then print your full name using these variables\n"
   ]
  },
  {
   "cell_type": "code",
   "execution_count": 4,
   "id": "b40e1fd6",
   "metadata": {},
   "outputs": [
    {
     "name": "stdout",
     "output_type": "stream",
     "text": [
      "Your Full Name is : Data Analyst Sufyan Ahmad\n"
     ]
    }
   ],
   "source": [
    "#Assign The Value and Print\n",
    "first_name ='Data Analyst'\n",
    "middle_name = 'Sufyan'\n",
    "last_name ='Ahmad'\n",
    "full_name = first_name+\" \"+middle_name+\" \"+last_name\n",
    "print(\"Your Full Name is :\",full_name)"
   ]
  },
  {
   "cell_type": "markdown",
   "id": "985ba107",
   "metadata": {},
   "source": [
    "# Question_04"
   ]
  },
  {
   "cell_type": "markdown",
   "id": "d48c6a1f",
   "metadata": {},
   "source": [
    "## Answer which of these are invalid variable names: _nation 1record record1 record_one record-one record^one continue"
   ]
  },
  {
   "cell_type": "code",
   "execution_count": 5,
   "id": "df8b54ae",
   "metadata": {},
   "outputs": [],
   "source": [
    "#Assign The Variable and Valid or inValid\n",
    "_nation = 5"
   ]
  },
  {
   "cell_type": "code",
   "execution_count": 6,
   "id": "cc0b3d81",
   "metadata": {},
   "outputs": [
    {
     "ename": "SyntaxError",
     "evalue": "invalid decimal literal (1054471272.py, line 2)",
     "output_type": "error",
     "traceback": [
      "\u001b[1;36m  Input \u001b[1;32mIn [6]\u001b[1;36m\u001b[0m\n\u001b[1;33m    1record =3\u001b[0m\n\u001b[1;37m    ^\u001b[0m\n\u001b[1;31mSyntaxError\u001b[0m\u001b[1;31m:\u001b[0m invalid decimal literal\n"
     ]
    }
   ],
   "source": [
    "#Assign The Variable and Valid or inValid\n",
    "1record =3"
   ]
  },
  {
   "cell_type": "code",
   "execution_count": 7,
   "id": "f71955e2",
   "metadata": {},
   "outputs": [],
   "source": [
    "#Assign The Variable and Valid or inValid\n",
    "record1 = 9"
   ]
  },
  {
   "cell_type": "code",
   "execution_count": 8,
   "id": "033a5283",
   "metadata": {},
   "outputs": [],
   "source": [
    "#Assign The Variable and Valid or inValid\n",
    "record_one =67"
   ]
  },
  {
   "cell_type": "code",
   "execution_count": 9,
   "id": "20ec3a97",
   "metadata": {},
   "outputs": [
    {
     "ename": "SyntaxError",
     "evalue": "cannot assign to expression here. Maybe you meant '==' instead of '='? (618938885.py, line 2)",
     "output_type": "error",
     "traceback": [
      "\u001b[1;36m  Input \u001b[1;32mIn [9]\u001b[1;36m\u001b[0m\n\u001b[1;33m    record-one =78\u001b[0m\n\u001b[1;37m    ^\u001b[0m\n\u001b[1;31mSyntaxError\u001b[0m\u001b[1;31m:\u001b[0m cannot assign to expression here. Maybe you meant '==' instead of '='?\n"
     ]
    }
   ],
   "source": [
    "#Assign The Variable and Valid or inValid\n",
    "record-one =78"
   ]
  },
  {
   "cell_type": "code",
   "execution_count": 10,
   "id": "f3ff3c22",
   "metadata": {},
   "outputs": [
    {
     "ename": "SyntaxError",
     "evalue": "cannot assign to expression here. Maybe you meant '==' instead of '='? (2398272233.py, line 1)",
     "output_type": "error",
     "traceback": [
      "\u001b[1;36m  Input \u001b[1;32mIn [10]\u001b[1;36m\u001b[0m\n\u001b[1;33m    record^one =789\u001b[0m\n\u001b[1;37m    ^\u001b[0m\n\u001b[1;31mSyntaxError\u001b[0m\u001b[1;31m:\u001b[0m cannot assign to expression here. Maybe you meant '==' instead of '='?\n"
     ]
    }
   ],
   "source": [
    "record^one =789"
   ]
  },
  {
   "cell_type": "markdown",
   "id": "198a631c",
   "metadata": {},
   "source": [
    "### Invalid : record^one,record-one,1record."
   ]
  },
  {
   "cell_type": "markdown",
   "id": "2f553123",
   "metadata": {},
   "source": [
    "--------------------------------------------------------------------------------------------------------------------------------"
   ]
  }
 ],
 "metadata": {
  "kernelspec": {
   "display_name": "Python 3 (ipykernel)",
   "language": "python",
   "name": "python3"
  },
  "language_info": {
   "codemirror_mode": {
    "name": "ipython",
    "version": 3
   },
   "file_extension": ".py",
   "mimetype": "text/x-python",
   "name": "python",
   "nbconvert_exporter": "python",
   "pygments_lexer": "ipython3",
   "version": "3.10.4"
  }
 },
 "nbformat": 4,
 "nbformat_minor": 5
}
