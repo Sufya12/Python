{
 "cells": [
  {
   "cell_type": "code",
   "execution_count": 1,
   "id": "55c42142",
   "metadata": {},
   "outputs": [
    {
     "name": "stdout",
     "output_type": "stream",
     "text": [
      "Welcome to Treasure Isiand \n",
      "Your mission is to find the treasure\n",
      "You're at a cross road. Where do you want to go? Type \"left\" or \"right\" left\n",
      "Tou come to a lake. There is an island in the middle of the lake. Type \"wait\" to wait for a boat.Type \"swim \" to swim across.\n",
      " wait\n",
      "Which Door are Use. \"red\" , \"blue\" , \"yellow\"  yellow\n",
      "You Win.\n"
     ]
    }
   ],
   "source": [
    "print(\"Welcome to Treasure Isiand \")\n",
    "print(\"Your mission is to find the treasure\")\n",
    "want_go = str(input(\"\"\"You're at a cross road. Where do you want to go? Type \"left\" or \"right\" \"\"\"))\n",
    "if want_go == \"left\":\n",
    "    wait_swim = str(input(\"\"\"Tou come to a lake. There is an island in the middle of the lake. Type \"wait\" to wait for a boat.Type \"swim \" to swim across.\\n \"\"\"))\n",
    "    if wait_swim == \"wait\":\n",
    "        which_door = str(input(\"\"\"Which Door are Use. \"red\" , \"blue\" , \"yellow\"  \"\"\"))\n",
    "        if ==\"red\":\n",
    "            print(\"Game Over.\")\n",
    "        elif which_door == \"yellow\":\n",
    "            print(\"You Win.\")\n",
    "        elif == \"blue\":\n",
    "            print(\"Game Over.\")\n",
    "        else:\n",
    "            print(\"Game Over.\")\n",
    "\n",
    "    else:\n",
    "        print(\"Game Over.\")\n",
    "else:\n",
    "    print(\"Game Over.\")"
   ]
  },
  {
   "cell_type": "code",
   "execution_count": null,
   "id": "0b8e3966",
   "metadata": {},
   "outputs": [],
   "source": []
  }
 ],
 "metadata": {
  "kernelspec": {
   "display_name": "Python 3 (ipykernel)",
   "language": "python",
   "name": "python3"
  },
  "language_info": {
   "codemirror_mode": {
    "name": "ipython",
    "version": 3
   },
   "file_extension": ".py",
   "mimetype": "text/x-python",
   "name": "python",
   "nbconvert_exporter": "python",
   "pygments_lexer": "ipython3",
   "version": "3.11.5"
  }
 },
 "nbformat": 4,
 "nbformat_minor": 5
}
