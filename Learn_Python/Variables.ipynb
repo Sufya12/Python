{
 "cells": [
  {
   "cell_type": "code",
   "execution_count": 1,
   "id": "3d1d0e00",
   "metadata": {},
   "outputs": [],
   "source": [
    "#Create The Variable\n",
    "product_1 = 10"
   ]
  },
  {
   "cell_type": "code",
   "execution_count": 2,
   "id": "a468c167",
   "metadata": {},
   "outputs": [
    {
     "name": "stdout",
     "output_type": "stream",
     "text": [
      "The Product 1 is: 10\n"
     ]
    }
   ],
   "source": [
    "#Print The Variable Data \n",
    "print(\"The Product 1 is:\", product_1)"
   ]
  },
  {
   "cell_type": "code",
   "execution_count": 3,
   "id": "5078206f",
   "metadata": {},
   "outputs": [],
   "source": [
    "#Create The Variable\n",
    "item_1 = 20"
   ]
  },
  {
   "cell_type": "code",
   "execution_count": 4,
   "id": "b78982d7",
   "metadata": {},
   "outputs": [
    {
     "name": "stdout",
     "output_type": "stream",
     "text": [
      "The Product 1 is: 20\n"
     ]
    }
   ],
   "source": [
    "#Print The Variable Data \n",
    "print(\"The Product 1 is:\", item_1)"
   ]
  },
  {
   "cell_type": "code",
   "execution_count": 5,
   "id": "7c6e7c36",
   "metadata": {},
   "outputs": [],
   "source": [
    "#Create The Variable\n",
    "rent = 2000"
   ]
  },
  {
   "cell_type": "code",
   "execution_count": 6,
   "id": "343da016",
   "metadata": {},
   "outputs": [],
   "source": [
    "#Create The Variable\n",
    "gas = 1200"
   ]
  },
  {
   "cell_type": "code",
   "execution_count": 7,
   "id": "f98f43df",
   "metadata": {},
   "outputs": [],
   "source": [
    "#Create The Variable\n",
    "groceries = 4000"
   ]
  },
  {
   "cell_type": "code",
   "execution_count": 8,
   "id": "3416798f",
   "metadata": {},
   "outputs": [
    {
     "name": "stdout",
     "output_type": "stream",
     "text": [
      "The Rent is: 2000\n"
     ]
    }
   ],
   "source": [
    "#Print The Variable Data \n",
    "print(\"The Rent is:\",rent)"
   ]
  },
  {
   "cell_type": "code",
   "execution_count": 9,
   "id": "4ed0ca66",
   "metadata": {},
   "outputs": [
    {
     "name": "stdout",
     "output_type": "stream",
     "text": [
      "The Rent is: 1200\n"
     ]
    }
   ],
   "source": [
    "#Print The Variable Data \n",
    "print(\"The Rent is:\",gas)"
   ]
  },
  {
   "cell_type": "code",
   "execution_count": 10,
   "id": "76ac41fe",
   "metadata": {},
   "outputs": [
    {
     "name": "stdout",
     "output_type": "stream",
     "text": [
      "The Rent is: 4000\n"
     ]
    }
   ],
   "source": [
    "#Print The Variable Data \n",
    "print(\"The Rent is:\",groceries )"
   ]
  },
  {
   "cell_type": "code",
   "execution_count": 11,
   "id": "3a4e38c7",
   "metadata": {},
   "outputs": [],
   "source": [
    "#Addition of the variable\n",
    "total = rent + gas + groceries"
   ]
  },
  {
   "cell_type": "code",
   "execution_count": 12,
   "id": "7b420946",
   "metadata": {},
   "outputs": [
    {
     "name": "stdout",
     "output_type": "stream",
     "text": [
      "The Rent is: 7200\n"
     ]
    }
   ],
   "source": [
    "#Print The Variable Data \n",
    "print(\"The Rent is:\",total )"
   ]
  },
  {
   "cell_type": "code",
   "execution_count": 13,
   "id": "1ce81900",
   "metadata": {},
   "outputs": [],
   "source": [
    "#Store the Items in the variable\n",
    "item1 = \"Rent\""
   ]
  },
  {
   "cell_type": "code",
   "execution_count": 14,
   "id": "0e9f3165",
   "metadata": {},
   "outputs": [],
   "source": [
    "#Store the Items in the variable\n",
    "item2 = \"Gas\""
   ]
  },
  {
   "cell_type": "code",
   "execution_count": 15,
   "id": "3949d7f9",
   "metadata": {},
   "outputs": [],
   "source": [
    "#Store the Items in the variable\n",
    "item3 = \"Groceries\""
   ]
  },
  {
   "cell_type": "code",
   "execution_count": 16,
   "id": "90f2f492",
   "metadata": {},
   "outputs": [
    {
     "name": "stdout",
     "output_type": "stream",
     "text": [
      "The Expenses Products is: Rent Gas Groceries\n"
     ]
    }
   ],
   "source": [
    "#Print The Items of The Expenses\n",
    "print(\"The Expenses Products is:\",item1,item2,item3)"
   ]
  },
  {
   "cell_type": "code",
   "execution_count": 17,
   "id": "34a0410b",
   "metadata": {},
   "outputs": [
    {
     "ename": "SyntaxError",
     "evalue": "cannot assign to True (1486508521.py, line 2)",
     "output_type": "error",
     "traceback": [
      "\u001b[1;36m  Cell \u001b[1;32mIn[17], line 2\u001b[1;36m\u001b[0m\n\u001b[1;33m    True = 4\u001b[0m\n\u001b[1;37m    ^\u001b[0m\n\u001b[1;31mSyntaxError\u001b[0m\u001b[1;31m:\u001b[0m cannot assign to True\n"
     ]
    }
   ],
   "source": [
    "#Store the Value in variable\n",
    "True = 4"
   ]
  }
 ],
 "metadata": {
  "kernelspec": {
   "display_name": "Python 3 (ipykernel)",
   "language": "python",
   "name": "python3"
  },
  "language_info": {
   "codemirror_mode": {
    "name": "ipython",
    "version": 3
   },
   "file_extension": ".py",
   "mimetype": "text/x-python",
   "name": "python",
   "nbconvert_exporter": "python",
   "pygments_lexer": "ipython3",
   "version": "3.11.5"
  }
 },
 "nbformat": 4,
 "nbformat_minor": 5
}
