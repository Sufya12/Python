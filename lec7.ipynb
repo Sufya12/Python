{
 "cells": [
  {
   "cell_type": "markdown",
   "id": "824cb6f1",
   "metadata": {},
   "source": [
    "# Lec 7"
   ]
  },
  {
   "cell_type": "code",
   "execution_count": 2,
   "id": "066146bc",
   "metadata": {},
   "outputs": [],
   "source": [
    "#Assign The Variable\n",
    "base = 10\n",
    "height = 5\n",
    "area = 1/2*(base*height)"
   ]
  },
  {
   "cell_type": "code",
   "execution_count": 3,
   "id": "3a4304f8",
   "metadata": {},
   "outputs": [
    {
     "name": "stdout",
     "output_type": "stream",
     "text": [
      "Area of Triangle is  25.0\n"
     ]
    }
   ],
   "source": [
    "#Print The Value\n",
    "print('Area of Triangle is ',area)"
   ]
  }
 ],
 "metadata": {
  "kernelspec": {
   "display_name": "Python 3 (ipykernel)",
   "language": "python",
   "name": "python3"
  },
  "language_info": {
   "codemirror_mode": {
    "name": "ipython",
    "version": 3
   },
   "file_extension": ".py",
   "mimetype": "text/x-python",
   "name": "python",
   "nbconvert_exporter": "python",
   "pygments_lexer": "ipython3",
   "version": "3.10.4"
  }
 },
 "nbformat": 4,
 "nbformat_minor": 5
}
