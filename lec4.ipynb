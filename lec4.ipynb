{
 "cells": [
  {
   "cell_type": "markdown",
   "id": "9ecf3bbf",
   "metadata": {},
   "source": [
    "# Lec#4"
   ]
  },
  {
   "cell_type": "markdown",
   "id": "af2d9f20",
   "metadata": {},
   "source": [
    "## String"
   ]
  },
  {
   "cell_type": "code",
   "execution_count": 6,
   "id": "730cfdb6",
   "metadata": {},
   "outputs": [],
   "source": [
    "#Assign The String\n",
    "text = \"ice cream \""
   ]
  },
  {
   "cell_type": "code",
   "execution_count": 7,
   "id": "73eab0e0",
   "metadata": {},
   "outputs": [
    {
     "name": "stdout",
     "output_type": "stream",
     "text": [
      "ice cream \n"
     ]
    }
   ],
   "source": [
    "#Print Variable\n",
    "print(text)"
   ]
  },
  {
   "cell_type": "code",
   "execution_count": 8,
   "id": "6be0d7b9",
   "metadata": {},
   "outputs": [
    {
     "data": {
      "text/plain": [
       "'i'"
      ]
     },
     "execution_count": 8,
     "metadata": {},
     "output_type": "execute_result"
    }
   ],
   "source": [
    "#Silicing\n",
    "text[0]"
   ]
  },
  {
   "cell_type": "code",
   "execution_count": 9,
   "id": "63fe0f5d",
   "metadata": {},
   "outputs": [
    {
     "data": {
      "text/plain": [
       "'c'"
      ]
     },
     "execution_count": 9,
     "metadata": {},
     "output_type": "execute_result"
    }
   ],
   "source": [
    "#Silicing\n",
    "text [1] "
   ]
  },
  {
   "cell_type": "code",
   "execution_count": 10,
   "id": "8569093a",
   "metadata": {},
   "outputs": [
    {
     "ename": "TypeError",
     "evalue": "'str' object does not support item assignment",
     "output_type": "error",
     "traceback": [
      "\u001b[1;31m---------------------------------------------------------------------------\u001b[0m",
      "\u001b[1;31mTypeError\u001b[0m                                 Traceback (most recent call last)",
      "Input \u001b[1;32mIn [10]\u001b[0m, in \u001b[0;36m<cell line: 2>\u001b[1;34m()\u001b[0m\n\u001b[0;32m      1\u001b[0m \u001b[38;5;66;03m#Update The String\u001b[39;00m\n\u001b[1;32m----> 2\u001b[0m text[\u001b[38;5;241m0\u001b[39m] \u001b[38;5;241m=\u001b[39m \u001b[38;5;124m'\u001b[39m\u001b[38;5;124mg\u001b[39m\u001b[38;5;124m'\u001b[39m\n",
      "\u001b[1;31mTypeError\u001b[0m: 'str' object does not support item assignment"
     ]
    }
   ],
   "source": [
    "#Update The String\n",
    "text[0] = 'g'"
   ]
  },
  {
   "cell_type": "code",
   "execution_count": 38,
   "id": "947d397d",
   "metadata": {},
   "outputs": [
    {
     "data": {
      "text/plain": [
       "'hel'"
      ]
     },
     "execution_count": 38,
     "metadata": {},
     "output_type": "execute_result"
    }
   ],
   "source": [
    "#Silicing\n",
    "text[0:3]"
   ]
  },
  {
   "cell_type": "code",
   "execution_count": 12,
   "id": "b1ef3501",
   "metadata": {},
   "outputs": [
    {
     "data": {
      "text/plain": [
       "'cream'"
      ]
     },
     "execution_count": 12,
     "metadata": {},
     "output_type": "execute_result"
    }
   ],
   "source": [
    "#Silicing\n",
    "text [4:9]"
   ]
  },
  {
   "cell_type": "code",
   "execution_count": 13,
   "id": "ce44278d",
   "metadata": {},
   "outputs": [
    {
     "data": {
      "text/plain": [
       "'cream '"
      ]
     },
     "execution_count": 13,
     "metadata": {},
     "output_type": "execute_result"
    }
   ],
   "source": [
    "#Silicing\n",
    "text [4:]"
   ]
  },
  {
   "cell_type": "code",
   "execution_count": 14,
   "id": "c3fce06d",
   "metadata": {},
   "outputs": [
    {
     "data": {
      "text/plain": [
       "'ice'"
      ]
     },
     "execution_count": 14,
     "metadata": {},
     "output_type": "execute_result"
    }
   ],
   "source": [
    "#Silicing\n",
    "text[:3]"
   ]
  },
  {
   "cell_type": "code",
   "execution_count": 15,
   "id": "8f1cd065",
   "metadata": {},
   "outputs": [],
   "source": [
    "#Assign The Variable \n",
    "text = \"hello\""
   ]
  },
  {
   "cell_type": "code",
   "execution_count": 16,
   "id": "f1d51278",
   "metadata": {},
   "outputs": [],
   "source": [
    "#Assign The Variable\n",
    "text ='hello'"
   ]
  },
  {
   "cell_type": "code",
   "execution_count": 18,
   "id": "d3b4c794",
   "metadata": {},
   "outputs": [
    {
     "ename": "SyntaxError",
     "evalue": "invalid syntax (1882867989.py, line 1)",
     "output_type": "error",
     "traceback": [
      "\u001b[1;36m  Input \u001b[1;32mIn [18]\u001b[1;36m\u001b[0m\n\u001b[1;33m    text = 'let's Learn Python '\u001b[0m\n\u001b[1;37m                ^\u001b[0m\n\u001b[1;31mSyntaxError\u001b[0m\u001b[1;31m:\u001b[0m invalid syntax\n"
     ]
    }
   ],
   "source": [
    "#Assign The Variable and Use Kotes\n",
    "text = 'let's Learn Python '"
   ]
  },
  {
   "cell_type": "code",
   "execution_count": 17,
   "id": "551558f5",
   "metadata": {},
   "outputs": [],
   "source": [
    "#Assign The Variable And Use Double Kotes\n",
    "text = \"let's Learn Python\""
   ]
  },
  {
   "cell_type": "code",
   "execution_count": 19,
   "id": "d6c226b9",
   "metadata": {},
   "outputs": [],
   "source": [
    "#Assign The Variable\n",
    "text = 'hello \"World\"'"
   ]
  },
  {
   "cell_type": "code",
   "execution_count": 20,
   "id": "2fb7fa58",
   "metadata": {},
   "outputs": [
    {
     "name": "stdout",
     "output_type": "stream",
     "text": [
      "hello \"World\"\n"
     ]
    }
   ],
   "source": [
    "#Print The Variable\n",
    "print(text)"
   ]
  },
  {
   "cell_type": "code",
   "execution_count": 24,
   "id": "c549c2bd",
   "metadata": {},
   "outputs": [],
   "source": [
    "#Assign the Variable Triples Kotes\n",
    "address ='''1 Purpule Street\n",
    "new york\n",
    "usa'''\n"
   ]
  },
  {
   "cell_type": "code",
   "execution_count": 25,
   "id": "35f2b4db",
   "metadata": {},
   "outputs": [
    {
     "name": "stdout",
     "output_type": "stream",
     "text": [
      "1 Purpule Street\n",
      "new york\n",
      "usa\n"
     ]
    }
   ],
   "source": [
    "#Print The Variable\n",
    "print(address)"
   ]
  },
  {
   "cell_type": "code",
   "execution_count": 26,
   "id": "f608a116",
   "metadata": {},
   "outputs": [],
   "source": [
    "#Asssign The Variable\n",
    "address = '1 purpule \\nnew york \\nusa '"
   ]
  },
  {
   "cell_type": "code",
   "execution_count": 27,
   "id": "9d4735d3",
   "metadata": {},
   "outputs": [
    {
     "name": "stdout",
     "output_type": "stream",
     "text": [
      "1 purpule \n",
      "new york \n",
      "usa \n"
     ]
    }
   ],
   "source": [
    "#Print The Variable\n",
    "print(address)"
   ]
  },
  {
   "cell_type": "code",
   "execution_count": 29,
   "id": "bbb7ff60",
   "metadata": {},
   "outputs": [],
   "source": [
    "#Assign The Variable\n",
    "s1 = 'hello'\n",
    "s2 = 'World '"
   ]
  },
  {
   "cell_type": "code",
   "execution_count": 30,
   "id": "46bd2b4c",
   "metadata": {},
   "outputs": [
    {
     "data": {
      "text/plain": [
       "'helloWorld '"
      ]
     },
     "execution_count": 30,
     "metadata": {},
     "output_type": "execute_result"
    }
   ],
   "source": [
    "#Add the Two String \n",
    "s1+s2"
   ]
  },
  {
   "cell_type": "code",
   "execution_count": 31,
   "id": "487d5578",
   "metadata": {},
   "outputs": [
    {
     "data": {
      "text/plain": [
       "'hello World '"
      ]
     },
     "execution_count": 31,
     "metadata": {},
     "output_type": "execute_result"
    }
   ],
   "source": [
    "#Add The Two String and Use Space\n",
    "s1+ ' '+s2"
   ]
  },
  {
   "cell_type": "code",
   "execution_count": 33,
   "id": "fe03d16f",
   "metadata": {},
   "outputs": [],
   "source": [
    "#Assign The String\n",
    "s = \"total state in usa # \""
   ]
  },
  {
   "cell_type": "code",
   "execution_count": 34,
   "id": "44e0ac06",
   "metadata": {},
   "outputs": [],
   "source": [
    "#Assign The Variable\n",
    "num =25"
   ]
  },
  {
   "cell_type": "code",
   "execution_count": 36,
   "id": "3dd9aa11",
   "metadata": {},
   "outputs": [
    {
     "ename": "TypeError",
     "evalue": "can only concatenate str (not \"int\") to str",
     "output_type": "error",
     "traceback": [
      "\u001b[1;31m---------------------------------------------------------------------------\u001b[0m",
      "\u001b[1;31mTypeError\u001b[0m                                 Traceback (most recent call last)",
      "Input \u001b[1;32mIn [36]\u001b[0m, in \u001b[0;36m<cell line: 1>\u001b[1;34m()\u001b[0m\n\u001b[1;32m----> 1\u001b[0m \u001b[43ms\u001b[49m\u001b[38;5;241;43m+\u001b[39;49m\u001b[43mnum\u001b[49m\n",
      "\u001b[1;31mTypeError\u001b[0m: can only concatenate str (not \"int\") to str"
     ]
    }
   ],
   "source": [
    "#Add Of String and Integer\n",
    "s+num"
   ]
  },
  {
   "cell_type": "code",
   "execution_count": 37,
   "id": "bd5f5c45",
   "metadata": {},
   "outputs": [
    {
     "data": {
      "text/plain": [
       "'total state in usa # 25'"
      ]
     },
     "execution_count": 37,
     "metadata": {},
     "output_type": "execute_result"
    }
   ],
   "source": [
    "#Add The String with Integer Convert into String\n",
    "s+str(num)"
   ]
  },
  {
   "cell_type": "markdown",
   "id": "91b131fb",
   "metadata": {},
   "source": [
    "--------------------------------------------------------------------------------------------------------------------------"
   ]
  }
 ],
 "metadata": {
  "kernelspec": {
   "display_name": "Python 3 (ipykernel)",
   "language": "python",
   "name": "python3"
  },
  "language_info": {
   "codemirror_mode": {
    "name": "ipython",
    "version": 3
   },
   "file_extension": ".py",
   "mimetype": "text/x-python",
   "name": "python",
   "nbconvert_exporter": "python",
   "pygments_lexer": "ipython3",
   "version": "3.9.12"
  }
 },
 "nbformat": 4,
 "nbformat_minor": 5
}
