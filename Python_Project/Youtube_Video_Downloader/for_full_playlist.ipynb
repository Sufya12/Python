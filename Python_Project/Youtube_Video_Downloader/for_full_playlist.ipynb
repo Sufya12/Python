{
 "cells": [
  {
   "cell_type": "markdown",
   "id": "4b83d70e",
   "metadata": {},
   "source": [
    "# For_All_Playlist"
   ]
  },
  {
   "cell_type": "code",
   "execution_count": 1,
   "id": "248a95b1",
   "metadata": {},
   "outputs": [
    {
     "name": "stdout",
     "output_type": "stream",
     "text": [
      "Requirement already satisfied: pytube in e:\\users\\sufyan\\anaconda3\\lib\\lib\\site-packages (12.1.2)\n"
     ]
    }
   ],
   "source": [
    "#Install The Libriary\n",
    "!pip install pytube"
   ]
  },
  {
   "cell_type": "code",
   "execution_count": 2,
   "id": "b82b2f63",
   "metadata": {},
   "outputs": [],
   "source": [
    "#Import The Libriary\n",
    "from pytube import Playlist"
   ]
  },
  {
   "cell_type": "code",
   "execution_count": 6,
   "id": "6cfcbf5c",
   "metadata": {},
   "outputs": [],
   "source": [
    "#Link The Youtube Full Playlist are Download and  apply Quationes\n",
    "link =Playlist('https://youtube.com/playlist?list=PLPaNVDMhUXGbfdGuSsfPR1qKBRT5Ywlki')"
   ]
  },
  {
   "cell_type": "code",
   "execution_count": 7,
   "id": "d7330621",
   "metadata": {},
   "outputs": [
    {
     "name": "stdout",
     "output_type": "stream",
     "text": [
      "Power BI in Hindi. सीखे Power BI हिंदी में\n"
     ]
    }
   ],
   "source": [
    "#Create  The  Variable And Call Title Function Title Of Playlist\n",
    "print(link.title)"
   ]
  },
  {
   "cell_type": "code",
   "execution_count": null,
   "id": "020fef2a",
   "metadata": {},
   "outputs": [],
   "source": [
    "#Use The For Loop And Download The All Videoes\n",
    "for i in link.videos:\n",
    "      i.streams.\\\n",
    "        filter(type = 'video',progressive=True,file_extension='mp4').\\\n",
    "        order_by('resolution').\\\n",
    "        desc().\\\n",
    "        first().\\\n",
    "        download()\n",
    "print('SuccessFully Download')"
   ]
  },
  {
   "cell_type": "markdown",
   "id": "42b04990",
   "metadata": {},
   "source": [
    "--------------------------------------------------------------------------------------------------------------------------------"
   ]
  }
 ],
 "metadata": {
  "kernelspec": {
   "display_name": "Python 3 (ipykernel)",
   "language": "python",
   "name": "python3"
  },
  "language_info": {
   "codemirror_mode": {
    "name": "ipython",
    "version": 3
   },
   "file_extension": ".py",
   "mimetype": "text/x-python",
   "name": "python",
   "nbconvert_exporter": "python",
   "pygments_lexer": "ipython3",
   "version": "3.9.13"
  }
 },
 "nbformat": 4,
 "nbformat_minor": 5
}
