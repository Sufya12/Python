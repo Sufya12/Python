{
 "cells": [
  {
   "cell_type": "markdown",
   "id": "6551860d",
   "metadata": {},
   "source": [
    "# Lec # 02\n"
   ]
  },
  {
   "cell_type": "markdown",
   "id": "8c8b3ee0",
   "metadata": {},
   "source": [
    "## Create Variable in Python"
   ]
  },
  {
   "cell_type": "code",
   "execution_count": 14,
   "id": "4e36d445",
   "metadata": {},
   "outputs": [],
   "source": [
    "#Create Variable\n",
    "rent = 1220\n",
    "gas =202.5\n",
    "groceries = 305.6\n",
    "total = rent +gas+groceries"
   ]
  },
  {
   "cell_type": "code",
   "execution_count": 15,
   "id": "9140418e",
   "metadata": {},
   "outputs": [
    {
     "name": "stdout",
     "output_type": "stream",
     "text": [
      "1220\n"
     ]
    }
   ],
   "source": [
    "#Print The Value'\n",
    "print(rent)"
   ]
  },
  {
   "cell_type": "code",
   "execution_count": 16,
   "id": "6d0674cc",
   "metadata": {},
   "outputs": [
    {
     "name": "stdout",
     "output_type": "stream",
     "text": [
      "1728.1\n"
     ]
    }
   ],
   "source": [
    "#Print The Value \n",
    "print(total)"
   ]
  },
  {
   "cell_type": "code",
   "execution_count": 17,
   "id": "73f3899c",
   "metadata": {},
   "outputs": [
    {
     "name": "stdout",
     "output_type": "stream",
     "text": [
      "Expense items : rent gas groceries\n"
     ]
    }
   ],
   "source": [
    "#Create Variable And Print\n",
    "item1 = \"rent\"\n",
    "item2 = \"gas\"\n",
    "item3 = \"groceries\"\n",
    "print(\"Expense items :\",item1,item2,item3)\n"
   ]
  },
  {
   "cell_type": "markdown",
   "id": "d003d92f",
   "metadata": {},
   "source": [
    "## Not Assign The Number "
   ]
  },
  {
   "cell_type": "code",
   "execution_count": 18,
   "id": "b6f31d8f",
   "metadata": {},
   "outputs": [
    {
     "ename": "SyntaxError",
     "evalue": "cannot assign to True (1483056785.py, line 1)",
     "output_type": "error",
     "traceback": [
      "\u001b[1;36m  Input \u001b[1;32mIn [18]\u001b[1;36m\u001b[0m\n\u001b[1;33m    True =4\u001b[0m\n\u001b[1;37m    ^\u001b[0m\n\u001b[1;31mSyntaxError\u001b[0m\u001b[1;31m:\u001b[0m cannot assign to True\n"
     ]
    }
   ],
   "source": [
    "True =4"
   ]
  },
  {
   "cell_type": "code",
   "execution_count": 13,
   "id": "6111e1ba",
   "metadata": {},
   "outputs": [
    {
     "ename": "SyntaxError",
     "evalue": "cannot assign to operator (1055897445.py, line 1)",
     "output_type": "error",
     "traceback": [
      "\u001b[1;36m  Input \u001b[1;32mIn [13]\u001b[1;36m\u001b[0m\n\u001b[1;33m    foo +bar = 4\u001b[0m\n\u001b[1;37m    ^\u001b[0m\n\u001b[1;31mSyntaxError\u001b[0m\u001b[1;31m:\u001b[0m cannot assign to operator\n"
     ]
    }
   ],
   "source": [
    "foo +bar = 4 "
   ]
  },
  {
   "cell_type": "markdown",
   "id": "9af7aad1",
   "metadata": {},
   "source": [
    "-----------------------------------------------------------------------------------------------------------------"
   ]
  }
 ],
 "metadata": {
  "kernelspec": {
   "display_name": "Python 3 (ipykernel)",
   "language": "python",
   "name": "python3"
  },
  "language_info": {
   "codemirror_mode": {
    "name": "ipython",
    "version": 3
   },
   "file_extension": ".py",
   "mimetype": "text/x-python",
   "name": "python",
   "nbconvert_exporter": "python",
   "pygments_lexer": "ipython3",
   "version": "3.9.12"
  }
 },
 "nbformat": 4,
 "nbformat_minor": 5
}
