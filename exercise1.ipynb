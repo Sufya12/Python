{
 "cells": [
  {
   "cell_type": "markdown",
   "id": "76d22c75",
   "metadata": {},
   "source": [
    "Question#01"
   ]
  },
  {
   "cell_type": "markdown",
   "id": "a31fc094",
   "metadata": {},
   "source": [
    "### 1. Create a variable called break and assign it a value 5. See what happens and find out the reason behind the behavior that you see"
   ]
  },
  {
   "cell_type": "code",
   "execution_count": 1,
   "id": "622c1319",
   "metadata": {
    "scrolled": true
   },
   "outputs": [
    {
     "ename": "SyntaxError",
     "evalue": "invalid syntax (2180035873.py, line 1)",
     "output_type": "error",
     "traceback": [
      "\u001b[1;36m  Input \u001b[1;32mIn [1]\u001b[1;36m\u001b[0m\n\u001b[1;33m    break = 5\u001b[0m\n\u001b[1;37m          ^\u001b[0m\n\u001b[1;31mSyntaxError\u001b[0m\u001b[1;31m:\u001b[0m invalid syntax\n"
     ]
    }
   ],
   "source": [
    "break = 5 "
   ]
  },
  {
   "cell_type": "markdown",
   "id": "eb86d98d",
   "metadata": {},
   "source": [
    "Question#02"
   ]
  },
  {
   "cell_type": "markdown",
   "id": "857206cd",
   "metadata": {},
   "source": [
    "### 2. Create two variables. One to store your birth year and another one to store current year. Now calculate your age using these two variables"
   ]
  },
  {
   "cell_type": "code",
   "execution_count": 3,
   "id": "1728b1a7",
   "metadata": {},
   "outputs": [
    {
     "name": "stdout",
     "output_type": "stream",
     "text": [
      "My Birth Year is  2001\n",
      "My Current Year is  2023\n",
      "My Age is 22\n"
     ]
    }
   ],
   "source": [
    "my_birth_year = 2001\n",
    "current_year =2023\n",
    "my_age= current_year - my_birth_year\n",
    "print(\"My Birth Year is \" , my_birth_year)\n",
    "print(\"My Current Year is \", current_year)\n",
    "print(\"My Age is\",my_age)"
   ]
  },
  {
   "cell_type": "markdown",
   "id": "a5499c07",
   "metadata": {},
   "source": [
    "Question#03"
   ]
  },
  {
   "cell_type": "markdown",
   "id": "1b1735ce",
   "metadata": {},
   "source": [
    "### 3. Store your first, middle and last name in three different variables and then print your full name using these variables"
   ]
  },
  {
   "cell_type": "code",
   "execution_count": 5,
   "id": "2b66b90b",
   "metadata": {},
   "outputs": [
    {
     "name": "stdout",
     "output_type": "stream",
     "text": [
      "My first Name  is Data Analyst\n",
      "My Middle Name is  Sufyan\n",
      "My Last Name is  Ahmad\n",
      "My Full Name is  Data Analyst Sufyan Ahmad\n"
     ]
    }
   ],
   "source": [
    "first_name = \"Data Analyst\"\n",
    "middle_name =\"Sufyan\"\n",
    "last_name = \"Ahmad\"\n",
    "print(\"My first Name  is\",first_name)\n",
    "print(\"My Middle Name is \",middle_name)\n",
    "print(\"My Last Name is \",last_name)\n",
    "print(\"My Full Name is \",first_name,middle_name,last_name)"
   ]
  },
  {
   "cell_type": "markdown",
   "id": "106a512a",
   "metadata": {},
   "source": [
    "Question#04"
   ]
  },
  {
   "cell_type": "markdown",
   "id": "51f5b3ba",
   "metadata": {},
   "source": [
    "### 4. Answer which of these are invalid variable names: \"_nation, 1record, record1, record_one, record-one, record^one, continue\""
   ]
  },
  {
   "cell_type": "code",
   "execution_count": 4,
   "id": "211caf04",
   "metadata": {},
   "outputs": [],
   "source": [
    "1record,record-one,record^one,continue\n",
    "   "
   ]
  },
  {
   "cell_type": "markdown",
   "id": "272d56c7",
   "metadata": {},
   "source": [
    "-------------------------------------------------------------------------------------------------------------------------------"
   ]
  }
 ],
 "metadata": {
  "kernelspec": {
   "display_name": "Python 3 (ipykernel)",
   "language": "python",
   "name": "python3"
  },
  "language_info": {
   "codemirror_mode": {
    "name": "ipython",
    "version": 3
   },
   "file_extension": ".py",
   "mimetype": "text/x-python",
   "name": "python",
   "nbconvert_exporter": "python",
   "pygments_lexer": "ipython3",
   "version": "3.9.12"
  }
 },
 "nbformat": 4,
 "nbformat_minor": 5
}
