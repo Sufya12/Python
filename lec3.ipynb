{
 "cells": [
  {
   "cell_type": "markdown",
   "id": "5a9a19b6",
   "metadata": {},
   "source": [
    "# Lec#03"
   ]
  },
  {
   "cell_type": "markdown",
   "id": "24d3e7d9",
   "metadata": {},
   "source": [
    "## Operaters"
   ]
  },
  {
   "cell_type": "code",
   "execution_count": 17,
   "id": "4ad0bdec",
   "metadata": {},
   "outputs": [
    {
     "data": {
      "text/plain": [
       "46"
      ]
     },
     "execution_count": 17,
     "metadata": {},
     "output_type": "execute_result"
    }
   ],
   "source": [
    "#Addition\n",
    "12+34"
   ]
  },
  {
   "cell_type": "code",
   "execution_count": 18,
   "id": "b114eff7",
   "metadata": {},
   "outputs": [
    {
     "data": {
      "text/plain": [
       "-1"
      ]
     },
     "execution_count": 18,
     "metadata": {},
     "output_type": "execute_result"
    }
   ],
   "source": [
    "#Subraction\n",
    "3-4"
   ]
  },
  {
   "cell_type": "code",
   "execution_count": 19,
   "id": "27f2d746",
   "metadata": {},
   "outputs": [
    {
     "data": {
      "text/plain": [
       "0.75"
      ]
     },
     "execution_count": 19,
     "metadata": {},
     "output_type": "execute_result"
    }
   ],
   "source": [
    "#Divided\n",
    "3/4"
   ]
  },
  {
   "cell_type": "code",
   "execution_count": 20,
   "id": "5877018c",
   "metadata": {},
   "outputs": [
    {
     "data": {
      "text/plain": [
       "20"
      ]
     },
     "execution_count": 20,
     "metadata": {},
     "output_type": "execute_result"
    }
   ],
   "source": [
    "#Multiply\n",
    "4*5"
   ]
  },
  {
   "cell_type": "code",
   "execution_count": 21,
   "id": "91a8eb3f",
   "metadata": {},
   "outputs": [
    {
     "data": {
      "text/plain": [
       "1"
      ]
     },
     "execution_count": 21,
     "metadata": {},
     "output_type": "execute_result"
    }
   ],
   "source": [
    "#Modules\n",
    "11%2"
   ]
  },
  {
   "cell_type": "code",
   "execution_count": 22,
   "id": "10f9ddff",
   "metadata": {},
   "outputs": [
    {
     "data": {
      "text/plain": [
       "9"
      ]
     },
     "execution_count": 22,
     "metadata": {},
     "output_type": "execute_result"
    }
   ],
   "source": [
    "#Power\n",
    "3**2"
   ]
  },
  {
   "cell_type": "code",
   "execution_count": 23,
   "id": "9fc59fbf",
   "metadata": {},
   "outputs": [
    {
     "data": {
      "text/plain": [
       "16"
      ]
     },
     "execution_count": 23,
     "metadata": {},
     "output_type": "execute_result"
    }
   ],
   "source": [
    "#Power\n",
    "2**4"
   ]
  },
  {
   "cell_type": "code",
   "execution_count": 16,
   "id": "e1e1726c",
   "metadata": {},
   "outputs": [],
   "source": [
    "#Assingn the values \n",
    "nyc_bal = 188\n",
    "bal_pitt = 247\n",
    "total_distance = nyc_bal+bal_pitt"
   ]
  },
  {
   "cell_type": "code",
   "execution_count": 15,
   "id": "bace02e1",
   "metadata": {},
   "outputs": [
    {
     "name": "stdout",
     "output_type": "stream",
     "text": [
      "435\n"
     ]
    }
   ],
   "source": [
    "#Print \n",
    "print(total_distance)"
   ]
  },
  {
   "cell_type": "code",
   "execution_count": 14,
   "id": "0f4b7e1a",
   "metadata": {},
   "outputs": [],
   "source": [
    "#Assign the Variable \n",
    "mph = 65\n",
    "time  = total_distance /mph"
   ]
  },
  {
   "cell_type": "code",
   "execution_count": 24,
   "id": "bb1419df",
   "metadata": {},
   "outputs": [
    {
     "name": "stdout",
     "output_type": "stream",
     "text": [
      "6.6923076923076925\n"
     ]
    }
   ],
   "source": [
    "#Print Value\n",
    "print(time)"
   ]
  },
  {
   "cell_type": "code",
   "execution_count": 27,
   "id": "3f01396d",
   "metadata": {},
   "outputs": [
    {
     "data": {
      "text/plain": [
       "6.69"
      ]
     },
     "execution_count": 27,
     "metadata": {},
     "output_type": "execute_result"
    }
   ],
   "source": [
    "#Round The Values in 2\n",
    "round(time,2)"
   ]
  },
  {
   "cell_type": "code",
   "execution_count": 28,
   "id": "05b12faf",
   "metadata": {},
   "outputs": [
    {
     "data": {
      "text/plain": [
       "6.692"
      ]
     },
     "execution_count": 28,
     "metadata": {},
     "output_type": "execute_result"
    }
   ],
   "source": [
    "#Round The Values in 3\n",
    "round(time, 3)"
   ]
  },
  {
   "cell_type": "code",
   "execution_count": 29,
   "id": "11644781",
   "metadata": {},
   "outputs": [
    {
     "data": {
      "text/plain": [
       "16"
      ]
     },
     "execution_count": 29,
     "metadata": {},
     "output_type": "execute_result"
    }
   ],
   "source": [
    "10+2*3"
   ]
  },
  {
   "cell_type": "code",
   "execution_count": 30,
   "id": "fa3a2401",
   "metadata": {},
   "outputs": [
    {
     "data": {
      "text/plain": [
       "36"
      ]
     },
     "execution_count": 30,
     "metadata": {},
     "output_type": "execute_result"
    }
   ],
   "source": [
    "(10+2)*3"
   ]
  },
  {
   "cell_type": "code",
   "execution_count": 31,
   "id": "e21b9b74",
   "metadata": {},
   "outputs": [
    {
     "data": {
      "text/plain": [
       "0.2999999999999998"
      ]
     },
     "execution_count": 31,
     "metadata": {},
     "output_type": "execute_result"
    }
   ],
   "source": [
    "6-5.7"
   ]
  },
  {
   "cell_type": "code",
   "execution_count": 33,
   "id": "b2bf4b65",
   "metadata": {},
   "outputs": [
    {
     "data": {
      "text/plain": [
       "0.3"
      ]
     },
     "execution_count": 33,
     "metadata": {},
     "output_type": "execute_result"
    }
   ],
   "source": [
    "#Round The Table\n",
    "round(6-5.7,2)"
   ]
  },
  {
   "cell_type": "markdown",
   "id": "5cffa44a",
   "metadata": {},
   "source": [
    "-------------------------------------------------------------------------------------------------------------------------------"
   ]
  }
 ],
 "metadata": {
  "kernelspec": {
   "display_name": "Python 3 (ipykernel)",
   "language": "python",
   "name": "python3"
  },
  "language_info": {
   "codemirror_mode": {
    "name": "ipython",
    "version": 3
   },
   "file_extension": ".py",
   "mimetype": "text/x-python",
   "name": "python",
   "nbconvert_exporter": "python",
   "pygments_lexer": "ipython3",
   "version": "3.9.12"
  }
 },
 "nbformat": 4,
 "nbformat_minor": 5
}
